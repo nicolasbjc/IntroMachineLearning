{
  "nbformat": 4,
  "nbformat_minor": 0,
  "metadata": {
    "colab": {
      "provenance": []
    },
    "kernelspec": {
      "name": "python3",
      "display_name": "Python 3"
    },
    "language_info": {
      "name": "python"
    }
  },
  "cells": [
    {
      "cell_type": "code",
      "execution_count": 19,
      "metadata": {
        "colab": {
          "base_uri": "https://localhost:8080/"
        },
        "id": "ykRkVAyLeGpm",
        "outputId": "0ca55ea9-4684-455c-cd96-a7ac6fc59463"
      },
      "outputs": [
        {
          "output_type": "stream",
          "name": "stdout",
          "text": [
            "--2025-04-30 21:37:47--  https://raw.githubusercontent.com/javierherrera1996/IntroMachineLearning/refs/heads/main/SegundoCorte/loan_approval_dataset.csv\n",
            "Resolving raw.githubusercontent.com (raw.githubusercontent.com)... 185.199.108.133, 185.199.109.133, 185.199.110.133, ...\n",
            "Connecting to raw.githubusercontent.com (raw.githubusercontent.com)|185.199.108.133|:443... connected.\n",
            "HTTP request sent, awaiting response... 200 OK\n",
            "Length: 384337 (375K) [text/plain]\n",
            "Saving to: ‘loan_approval_dataset.csv.3’\n",
            "\n",
            "loan_approval_datas 100%[===================>] 375.33K  --.-KB/s    in 0.06s   \n",
            "\n",
            "2025-04-30 21:37:48 (6.31 MB/s) - ‘loan_approval_dataset.csv.3’ saved [384337/384337]\n",
            "\n"
          ]
        }
      ],
      "source": [
        "!wget https://raw.githubusercontent.com/javierherrera1996/IntroMachineLearning/refs/heads/main/SegundoCorte/loan_approval_dataset.csv"
      ]
    },
    {
      "cell_type": "code",
      "source": [
        "import pandas as pd\n",
        "import numpy as np\n",
        "import matplotlib.pyplot as plt\n",
        "import seaborn as sns\n",
        "\n",
        "!wget https://raw.githubusercontent.com/javierherrera1996/IntroMachineLearning/refs/heads/main/SegundoCorte/loan_approval_dataset.csv\n",
        "df = pd.read_csv('loan_approval_dataset.csv')\n",
        "\n",
        "print(df.info())\n",
        "print(df.head())\n"
      ],
      "metadata": {
        "colab": {
          "base_uri": "https://localhost:8080/"
        },
        "id": "bdmffDQxfYF8",
        "outputId": "654261ef-cc3c-4596-f6c5-693156aee08c"
      },
      "execution_count": 35,
      "outputs": [
        {
          "output_type": "stream",
          "name": "stdout",
          "text": [
            "--2025-04-30 21:45:42--  https://raw.githubusercontent.com/javierherrera1996/IntroMachineLearning/refs/heads/main/SegundoCorte/loan_approval_dataset.csv\n",
            "Resolving raw.githubusercontent.com (raw.githubusercontent.com)... 185.199.108.133, 185.199.109.133, 185.199.110.133, ...\n",
            "Connecting to raw.githubusercontent.com (raw.githubusercontent.com)|185.199.108.133|:443... connected.\n",
            "HTTP request sent, awaiting response... 200 OK\n",
            "Length: 384337 (375K) [text/plain]\n",
            "Saving to: ‘loan_approval_dataset.csv.6’\n",
            "\n",
            "\r          loan_appr   0%[                    ]       0  --.-KB/s               \rloan_approval_datas 100%[===================>] 375.33K  --.-KB/s    in 0.06s   \n",
            "\n",
            "2025-04-30 21:45:42 (5.70 MB/s) - ‘loan_approval_dataset.csv.6’ saved [384337/384337]\n",
            "\n",
            "<class 'pandas.core.frame.DataFrame'>\n",
            "RangeIndex: 4269 entries, 0 to 4268\n",
            "Data columns (total 13 columns):\n",
            " #   Column                     Non-Null Count  Dtype \n",
            "---  ------                     --------------  ----- \n",
            " 0   loan_id                    4269 non-null   int64 \n",
            " 1    no_of_dependents          4269 non-null   int64 \n",
            " 2    education                 4269 non-null   object\n",
            " 3    self_employed             4269 non-null   object\n",
            " 4    income_annum              4269 non-null   int64 \n",
            " 5    loan_amount               4269 non-null   int64 \n",
            " 6    loan_term                 4269 non-null   int64 \n",
            " 7    cibil_score               4269 non-null   int64 \n",
            " 8    residential_assets_value  4269 non-null   int64 \n",
            " 9    commercial_assets_value   4269 non-null   int64 \n",
            " 10   luxury_assets_value       4269 non-null   int64 \n",
            " 11   bank_asset_value          4269 non-null   int64 \n",
            " 12   loan_status               4269 non-null   object\n",
            "dtypes: int64(10), object(3)\n",
            "memory usage: 433.7+ KB\n",
            "None\n",
            "   loan_id   no_of_dependents      education  self_employed   income_annum  \\\n",
            "0        1                  2       Graduate             No        9600000   \n",
            "1        2                  0   Not Graduate            Yes        4100000   \n",
            "2        3                  3       Graduate             No        9100000   \n",
            "3        4                  3       Graduate             No        8200000   \n",
            "4        5                  5   Not Graduate            Yes        9800000   \n",
            "\n",
            "    loan_amount   loan_term   cibil_score   residential_assets_value  \\\n",
            "0      29900000          12           778                    2400000   \n",
            "1      12200000           8           417                    2700000   \n",
            "2      29700000          20           506                    7100000   \n",
            "3      30700000           8           467                   18200000   \n",
            "4      24200000          20           382                   12400000   \n",
            "\n",
            "    commercial_assets_value   luxury_assets_value   bank_asset_value  \\\n",
            "0                  17600000              22700000            8000000   \n",
            "1                   2200000               8800000            3300000   \n",
            "2                   4500000              33300000           12800000   \n",
            "3                   3300000              23300000            7900000   \n",
            "4                   8200000              29400000            5000000   \n",
            "\n",
            "   loan_status  \n",
            "0     Approved  \n",
            "1     Rejected  \n",
            "2     Rejected  \n",
            "3     Rejected  \n",
            "4     Rejected  \n"
          ]
        }
      ]
    },
    {
      "cell_type": "markdown",
      "source": [
        "**2 Preguntas Te´oricas\n",
        "Responde las siguientes preguntas relacionadas con los conceptos de an´alisis de datos, estad´ısticas y\n",
        "Machine Learning.**\n",
        "\n",
        "2.1 Pregunta 1: An´alisis Exploratorio de Datos (EDA)\n",
        "¿Qu´e pasos seguir´ıas para realizar un an´alisis exploratorio de los datos antes de construir un modelo de\n",
        "Machine Learning? Explica cada paso y menciona las herramientas que utilizar´ıas."
      ],
      "metadata": {
        "id": "TZ3h8OwDgOxG"
      }
    },
    {
      "cell_type": "code",
      "source": [
        "# 2. Descripción general de los datos:\n",
        "print(df.describe())\n",
        "print(df.info())\n",
        "# 3. Limpieza de datos:\n",
        "print(df.isnull().sum())\n",
        "\n",
        "# Eliminar columnas irrelevantes\n",
        "#df = df.drop(['Loan_ID'], axis=1)\n",
        "\n",
        "# 4. Análisis univariado:\n",
        "# Examinar cada variable individualmente.\n",
        "# Variables numéricas: histogramas, distribuciones de probabilidad.\n",
        "import matplotlib.pyplot as plt\n",
        "import seaborn as sns\n",
        "\n",
        "df.hist(figsize=(12, 10))\n",
        "plt.show()\n",
        "\n",
        "# Variables categóricas: tablas de frecuencia, diagramas de barras.\n",
        "for col in df.select_dtypes(include='object'):\n",
        "  print(df[col].value_counts())\n",
        "  sns.countplot(x=col, data=df)\n",
        "  plt.show()\n",
        "\n",
        "\n",
        "# Variables categóricas: tablas de contingencia, chi-cuadrado.\n",
        "# Ejemplo:\n",
        "#pd.crosstab(df['Gender'], df['Loan_Status'])\n",
        "\n",
        "# 6. Detección de valores atípicos (outliers):\n",
        "# Se usan boxplots, diagramas de dispersión y métodos estadísticos.\n",
        "# Tratar outliers: eliminación o transformación de datos.\n",
        "\n",
        "# 7. Transformación de variables:\n",
        "# Re-escalado, normalización, estandarización.\n",
        "# Convertir variables categóricas a numéricas (one-hot encoding, label encoding).\n",
        "\n",
        "# 8. Visualización:\n",
        "# Gráficos claros y concisos (matplotlib, seaborn, plotly).\n",
        "\n",
        "# Herramientas:\n",
        "# Pandas (manipulación de datos)\n",
        "# NumPy (cálculo numérico)\n",
        "# Matplotlib & Seaborn (visualización)\n",
        "# Scikit-learn (preprocesamiento)\n"
      ],
      "metadata": {
        "colab": {
          "base_uri": "https://localhost:8080/",
          "height": 1000
        },
        "id": "OpqlSDwKfoKZ",
        "outputId": "ac1b2236-4b10-44f6-cf3d-e94ddccd0970"
      },
      "execution_count": 33,
      "outputs": [
        {
          "output_type": "stream",
          "name": "stdout",
          "text": [
            "           loan_id   no_of_dependents   income_annum   loan_amount  \\\n",
            "count  4269.000000        4269.000000   4.269000e+03  4.269000e+03   \n",
            "mean   2135.000000           2.498712   5.059124e+06  1.513345e+07   \n",
            "std    1232.498479           1.695910   2.806840e+06  9.043363e+06   \n",
            "min       1.000000           0.000000   2.000000e+05  3.000000e+05   \n",
            "25%    1068.000000           1.000000   2.700000e+06  7.700000e+06   \n",
            "50%    2135.000000           3.000000   5.100000e+06  1.450000e+07   \n",
            "75%    3202.000000           4.000000   7.500000e+06  2.150000e+07   \n",
            "max    4269.000000           5.000000   9.900000e+06  3.950000e+07   \n",
            "\n",
            "         loan_term   cibil_score   residential_assets_value  \\\n",
            "count  4269.000000   4269.000000               4.269000e+03   \n",
            "mean     10.900445    599.936051               7.472617e+06   \n",
            "std       5.709187    172.430401               6.503637e+06   \n",
            "min       2.000000    300.000000              -1.000000e+05   \n",
            "25%       6.000000    453.000000               2.200000e+06   \n",
            "50%      10.000000    600.000000               5.600000e+06   \n",
            "75%      16.000000    748.000000               1.130000e+07   \n",
            "max      20.000000    900.000000               2.910000e+07   \n",
            "\n",
            "        commercial_assets_value   luxury_assets_value   bank_asset_value  \n",
            "count              4.269000e+03          4.269000e+03       4.269000e+03  \n",
            "mean               4.973155e+06          1.512631e+07       4.976692e+06  \n",
            "std                4.388966e+06          9.103754e+06       3.250185e+06  \n",
            "min                0.000000e+00          3.000000e+05       0.000000e+00  \n",
            "25%                1.300000e+06          7.500000e+06       2.300000e+06  \n",
            "50%                3.700000e+06          1.460000e+07       4.600000e+06  \n",
            "75%                7.600000e+06          2.170000e+07       7.100000e+06  \n",
            "max                1.940000e+07          3.920000e+07       1.470000e+07  \n",
            "<class 'pandas.core.frame.DataFrame'>\n",
            "RangeIndex: 4269 entries, 0 to 4268\n",
            "Data columns (total 13 columns):\n",
            " #   Column                     Non-Null Count  Dtype \n",
            "---  ------                     --------------  ----- \n",
            " 0   loan_id                    4269 non-null   int64 \n",
            " 1    no_of_dependents          4269 non-null   int64 \n",
            " 2    education                 4269 non-null   object\n",
            " 3    self_employed             4269 non-null   object\n",
            " 4    income_annum              4269 non-null   int64 \n",
            " 5    loan_amount               4269 non-null   int64 \n",
            " 6    loan_term                 4269 non-null   int64 \n",
            " 7    cibil_score               4269 non-null   int64 \n",
            " 8    residential_assets_value  4269 non-null   int64 \n",
            " 9    commercial_assets_value   4269 non-null   int64 \n",
            " 10   luxury_assets_value       4269 non-null   int64 \n",
            " 11   bank_asset_value          4269 non-null   int64 \n",
            " 12   loan_status               4269 non-null   object\n",
            "dtypes: int64(10), object(3)\n",
            "memory usage: 433.7+ KB\n",
            "None\n",
            "loan_id                      0\n",
            " no_of_dependents            0\n",
            " education                   0\n",
            " self_employed               0\n",
            " income_annum                0\n",
            " loan_amount                 0\n",
            " loan_term                   0\n",
            " cibil_score                 0\n",
            " residential_assets_value    0\n",
            " commercial_assets_value     0\n",
            " luxury_assets_value         0\n",
            " bank_asset_value            0\n",
            " loan_status                 0\n",
            "dtype: int64\n"
          ]
        },
        {
          "output_type": "display_data",
          "data": {
            "text/plain": [
              "<Figure size 1200x1000 with 12 Axes>"
            ],
            "image/png": "[encoded data removed]"
          },
          "metadata": {}
        },
        {
          "output_type": "stream",
          "name": "stdout",
          "text": [
            " education\n",
            "Graduate        2144\n",
            "Not Graduate    2125\n",
            "Name: count, dtype: int64\n"
          ]
        },
        {
          "output_type": "display_data",
          "data": {
            "text/plain": [
              "<Figure size 640x480 with 1 Axes>"
            ],
            "image/png": "[encoded data removed]"
          },
          "metadata": {}
        },
        {
          "output_type": "stream",
          "name": "stdout",
          "text": [
            " self_employed\n",
            "Yes    2150\n",
            "No     2119\n",
            "Name: count, dtype: int64\n"
          ]
        },
        {
          "output_type": "display_data",
          "data": {
            "text/plain": [
              "<Figure size 640x480 with 1 Axes>"
            ],
            "image/png": "[encoded data removed]"
          },
          "metadata": {}
        },
        {
          "output_type": "stream",
          "name": "stdout",
          "text": [
            " loan_status\n",
            "Approved    2656\n",
            "Rejected    1613\n",
            "Name: count, dtype: int64\n"
          ]
        },
        {
          "output_type": "display_data",
          "data": {
            "text/plain": [
              "<Figure size 640x480 with 1 Axes>"
            ],
            "image/png": "[encoded data removed]"
          },
          "metadata": {}
        }
      ]
    },
    {
      "cell_type": "markdown",
      "source": [
        "**2.2 Pregunta 2: Preprocesamiento de Datos\n",
        "Imagina que uno de los datos contiene valores faltantes o at´ıpicos (outliers). ¿Qu´e t´ecnicas utilizar´ıas\n",
        "para tratar con estos problemas en el conjunto de datos de la tabla? Justifica tu respuesta.**"
      ],
      "metadata": {
        "id": "OPNJt7aHhAkF"
      }
    },
    {
      "cell_type": "markdown",
      "source": [
        "Imputación de valores faltantes:\n",
        "Para variables numéricas:\n",
        "1. Media/Mediana: Reemplazar los valores faltantes con la media o mediana de la columna.\n",
        "    Se prefiere la mediana si hay outliers significativos.\n",
        "    Ejemplo: df['LoanAmount'].fillna(df['LoanAmount'].median(), inplace=True)\n",
        " 2. K-Nearest Neighbors (KNN): Imputar los valores faltantes basándose en los valores de los k vecinos más cercanos.\n",
        "    Ejemplo: from sklearn.impute import KNNImputer; imputer = KNNImputer(n_neighbors=5); df['LoanAmount'] = imputer.fit_transform(df[['LoanAmount']])\n",
        "\n",
        " Para variables categóricas:\n",
        " 1. Moda: Reemplazar con la categoría más frecuente.\n",
        "    Ejemplo: df['Gender'].fillna(df['Gender'].mode()[0], inplace=True)\n",
        " 2. \"Missing\": Crear una nueva categoría para los valores faltantes.\n",
        "    Ejemplo: df['Gender'].fillna(\"Missing\", inplace=True)\n",
        "\n",
        " Detección y tratamiento de valores atípicos (outliers):\n",
        " 1. Rango Intercuartil (IQR): Identificar outliers basados en el rango intercuartil (Q3 - Q1).\n",
        "    Valores por encima de Q3 + 1.5 * IQR o por debajo de Q1 - 1.5 * IQR pueden ser considerados outliers.\n",
        "    Ejemplo: Q1 = df['LoanAmount'].quantile(0.25); Q3 = df['LoanAmount'].quantile(0.75); IQR = Q3 - Q1\n",
        "             lower_bound = Q1 - 1.5 * IQR; upper_bound = Q3 + 1.5 * IQR\n",
        "             df = df[(df['LoanAmount'] >= lower_bound) & (df['LoanAmount'] <= upper_bound)]\n",
        "\n",
        " 2. Z-Score: Calcular la puntuación Z para cada valor y eliminar aquellos con un valor absoluto de Z-score por encima de un umbral (ej., 3).\n",
        "    Ejemplo: from scipy import stats; z = np.abs(stats.zscore(df['LoanAmount'])); df = df[(z < 3)]\n",
        "\n",
        "\n",
        " 3. Winsorización: Reemplazar los valores atípicos con los valores en los percentiles definidos (ej., 1% y 99%).\n",
        " 4. Transformación logarítmica: Aplicar una transformación logarítmica para reducir el impacto de los valores atípicos en variables con una distribución sesgada.\n",
        "    Ejemplo: df['LoanAmount'] = np.log1p(df['LoanAmount']) # np.log1p evita problemas con valores 0\n",
        " Justificación:\n",
        "\n",
        " La elección de la técnica depende de la naturaleza de los datos, la cantidad de valores faltantes y el contexto del problema.\n",
        " Para valores faltantes, la imputación con la mediana o KNN para numéricos y la moda o crear una nueva categoría para categóricos son comunes.\n",
        " Para outliers, el IQR y Z-score son efectivos, la Winsorización o la transformación logarítmica pueden ser útiles si queremos mantener los datos.\n",
        " Siempre se debe justificar la decisión de acuerdo con el análisis del dataset.\n"
      ],
      "metadata": {
        "id": "3f3NRo65hG_d"
      }
    },
    {
      "cell_type": "markdown",
      "source": [
        "**Pregunta 3: Modelos de Clasificaci´on\n",
        "En este caso, el objetivo es predecir si un pr´estamo ser´a aprobado o rechazado en funci´on de las caracter´ısticas del solicitante. ¿Qu´e tipo de modelo de clasificaci´on usar´ıas y por qu´e? Discute las ventajas y\n",
        "desventajas de este modelo.**"
      ],
      "metadata": {
        "id": "fL1NQ0Hpisj-"
      }
    },
    {
      "cell_type": "markdown",
      "source": [
        "Para predecir la aprobación o rechazo de un préstamo, se pueden usar varios modelos de clasificación.\n",
        "Dado que el objetivo es una variable binaria (aprobado/rechazado):\n",
        "\n",
        "1. Regresión Logística: Es un modelo lineal que predice la probabilidad de una variable binaria.\n",
        "   Es simple, interpretable y eficiente computacionalmente.  Es una buena opción para un primer modelo.\n",
        "\n",
        "2. Árboles de Decisión:  Crean un árbol de decisiones basado en reglas de decisión.  Son fáciles de entender\n",
        "    y visualizar, pero pueden ser propensos a sobreajuste.\n",
        "\n",
        "3. Random Forest:  Un conjunto de árboles de decisión que reduce el sobreajuste.  Es robusto y generalmente\n",
        "    tiene buen rendimiento.\n",
        "\n",
        "4. Gradient Boosting Machines (GBM) como XGBoost, LightGBM, o CatBoost:  Combinan varios árboles de decisión de forma secuencial.\n",
        "  Son muy potentes y suelen tener un alto rendimiento en muchas tareas de clasificación, pero requieren ajuste fino de hiperparámetros.\n",
        "\n",
        "5. Redes Neuronales: Modelos más complejos que pueden capturar patrones no lineales, pero requieren una gran cantidad de datos y son más difíciles de interpretar.\n",
        "\n",
        "La elección del mejor modelo dependerá de la naturaleza de los datos, la cantidad de datos disponibles,\n",
        "la interpretabilidad deseada, la complejidad computacional y el rendimiento deseado.  \n",
        "Es recomendable probar diferentes modelos y comparar su rendimiento usando métricas como precisión, exactitud, F1-score y AUC-ROC.\n",
        "Además, es importante realizar validación cruzada para evitar sobreajuste."
      ],
      "metadata": {
        "id": "wbC5bgDojHwV"
      }
    },
    {
      "cell_type": "markdown",
      "source": [
        "**Pregunta 4: Desbalanceo de Clases\n",
        "¿Qu´e es el desbalanceo de clases y por qu´e es un problema al entrenar un modelo de clasificaci´on? ¿Qu´e\n",
        "t´ecnicas utilizar´ıas para abordar este problema, como SMOTE?**"
      ],
      "metadata": {
        "id": "d45O7ChGkTn-"
      }
    },
    {
      "cell_type": "markdown",
      "source": [
        "Ocurre cuando las clases en un conjunto de datos de clasificación no están representadas equitativamente.\n",
        "Por ejemplo, en un conjunto de datos para la detección de fraude, la mayoría de las transacciones pueden ser legítimas (clase mayoritaria), mientras que las fraudulentas son escasas (clase minoritaria).\n",
        "\n",
        "Problema al entrenar:\n",
        "Un modelo entrenado con datos desbalanceados puede tener un sesgo hacia la clase mayoritaria.\n",
        "Puede predecir correctamente la clase mayoritaria, pero fallar al identificar la clase minoritaria, lo que es crucial en muchas aplicaciones.  \n",
        "Esto resulta en métricas de evaluación engañosas. Por ejemplo, una alta precisión no indica buen rendimiento si la clase minoritaria es la importante.\n",
        "\n",
        "\n",
        "Técnicas para abordar el desbalanceo:\n",
        " 1. Sobremuestreo (Oversampling): Aumenta la representación de la clase minoritaria.\n",
        "     - Duplicación: Repetir instancias de la clase minoritaria. Simple, pero puede llevar a sobreajuste.\n",
        "     - SMOTE (Synthetic Minority Over-sampling Technique): Genera nuevas instancias sintéticas para la clase minoritaria.  Es más robusto que la simple duplicación, ya que crea nuevas muestras en base a los vecinos de las existentes.\n",
        "\n",
        " 2. Submuestreo (Undersampling): Reduce la representación de la clase mayoritaria.\n",
        "     - Eliminación aleatoria:  Elimina instancias aleatorias de la clase mayoritaria. Puede llevar a pérdida de información valiosa.\n",
        "     - Técnicas más avanzadas:  Tomek links, NearMiss.\n",
        "\n",
        " 3. Cost-Sensitive Learning:  Asigna pesos diferentes a las clases durante el entrenamiento, penalizando más los errores en la clase minoritaria.\n",
        "\n",
        " 4. Ensembles: Combinar varios modelos para mejorar el rendimiento.\n",
        "\n",
        " SMOTE es una buena opción porque crea nuevas instancias sintéticas en lugar de duplicar las existentes, lo que reduce el riesgo de sobreajuste.\n",
        " La mejor técnica dependerá de la naturaleza de los datos, el problema en cuestión y la severidad del desbalanceo.\n"
      ],
      "metadata": {
        "id": "U8GZ6xkukgl9"
      }
    },
    {
      "cell_type": "markdown",
      "source": [
        "**Pregunta 5: Overfitting\n",
        "¿Qu´e es el overfitting y c´omo puedes detectarlo en un modelo de Machine Learning? Explica qu´e medidas\n",
        "tomar´ıas para evitar el sobreajuste y mejorar la capacidad de generalizaci´on de tu modelo.**"
      ],
      "metadata": {
        "id": "lETU6aPclfty"
      }
    },
    {
      "cell_type": "markdown",
      "source": [
        " Overfitting ocurre cuando un modelo de Machine Learning se ajusta demasiado a los datos de entrenamiento,\n",
        " aprendiendo incluso el ruido y las fluctuaciones aleatorias presentes en esos datos.  Como resultado,\n",
        " el modelo puede tener un rendimiento excelente en los datos de entrenamiento, pero un rendimiento\n",
        " pobre en datos nuevos o no vistos (datos de prueba o de validación).  En esencia, el modelo memoriza\n",
        " los datos de entrenamiento en lugar de aprender los patrones subyacentes.\n",
        "\n",
        " Detección de Overfitting:\n",
        "\n",
        " 1. Rendimiento significativamente diferente entre entrenamiento y prueba:  Una gran diferencia en\n",
        "    las métricas de evaluación (como precisión, exactitud, etc.) entre los conjuntos de entrenamiento\n",
        "    y prueba es una señal de alerta.  Un modelo con overfitting tendrá una alta precisión en el conjunto\n",
        "    de entrenamiento y una precisión baja en el conjunto de prueba.\n",
        "\n",
        " 2. Curvas de aprendizaje:  Las curvas de aprendizaje muestran el rendimiento del modelo en función de\n",
        "    la cantidad de datos de entrenamiento.  En un modelo con overfitting, la curva de aprendizaje del\n",
        "    conjunto de entrenamiento tendrá una precisión alta, mientras que la del conjunto de prueba\n",
        "    permanecerá baja y con una diferencia significativa con respecto al conjunto de entrenamiento.\n",
        "\n",
        " 3. Validación cruzada:  La validación cruzada (k-fold) ayuda a evaluar el modelo en diferentes subconjuntos\n",
        "     de los datos.  Si el rendimiento varía mucho entre las diferentes divisiones, podría indicar overfitting.\n",
        "\n",
        " Medidas para evitar el overfitting:\n",
        "\n",
        " 1. Más datos:  Aumentar la cantidad de datos de entrenamiento suele ayudar a reducir el overfitting, ya\n",
        "    que el modelo tiene más ejemplos para aprender los patrones reales.\n",
        "\n",
        " 2. Simplificar el modelo:  Usar un modelo más simple con menos parámetros puede reducir la complejidad\n",
        "    y disminuir la probabilidad de overfitting.  Esto puede implicar reducir el número de capas en una red\n",
        "    neuronal, disminuir la profundidad de un árbol de decisión o usar regularización.\n",
        "\n",
        " 3. Regularización:  Agregar un término de penalización a la función de costo del modelo.  Las técnicas\n",
        "    comunes de regularización incluyen L1 (Lasso) y L2 (Ridge), que penalizan los pesos grandes en el\n",
        "    modelo, evitando que el modelo se ajuste demasiado a los datos de entrenamiento.\n",
        "\n",
        " 4. Dropout (para redes neuronales):  Durante el entrenamiento, aleatoriamente desactivar algunos nodos\n",
        "    de la red neuronal.  Esto previene la codependencia entre nodos y ayuda a generalizar mejor.\n",
        "\n",
        " 5. Early stopping:  Detener el entrenamiento del modelo antes de que alcance su máximo rendimiento en\n",
        "     los datos de entrenamiento.  Monitorizar el rendimiento en un conjunto de validación y detener el\n",
        "     entrenamiento cuando el rendimiento en el conjunto de validación empiece a disminuir, incluso si el\n",
        "     rendimiento en el conjunto de entrenamiento sigue mejorando.\n",
        "\n",
        " 6. Aumentación de datos: Crear nuevos datos de entrenamiento a partir de los datos existentes mediante\n",
        "    transformaciones (rotaciones, escalado, etc.).  Esto aumenta la diversidad de los datos y ayuda a mejorar\n",
        "    la capacidad de generalización del modelo.\n",
        "\n",
        " 7. Validación cruzada: Usar técnicas de validación cruzada (como k-fold) para evaluar el modelo de forma\n",
        "    más robusta y detectar posibles problemas de sobreajuste."
      ],
      "metadata": {
        "id": "BnUcM0XhltNK"
      }
    },
    {
      "cell_type": "markdown",
      "source": [
        "-------------------------**Ejercicios Prácticos** -------------------------------------"
      ],
      "metadata": {
        "id": "S8JY195zmbXB"
      }
    },
    {
      "cell_type": "markdown",
      "source": [
        "**Ejercicio1: An´alisis Descriptivo**\n",
        "Usa la tabla de datos proporcionada para realizar un an´alisis descriptivo de las variables num´ericas.\n",
        "Responde a las siguientes preguntas:\n",
        "• ¿Cu´al es el promedio de los ingresos anuales (income annum) de los solicitantes?\n",
        "• ¿Cu´al es el puntaje CIBIL promedio de los solicitantes cuyo pr´estamo fue aprobado?\n",
        "• ¿Cu´al es la duraci´on promedio de los pr´estamos (loan term)?"
      ],
      "metadata": {
        "id": "QTvqQNSeorxo"
      }
    },
    {
      "cell_type": "code",
      "source": [
        "print(df.columns)"
      ],
      "metadata": {
        "colab": {
          "base_uri": "https://localhost:8080/"
        },
        "id": "N7CSObftuHbc",
        "outputId": "e0e77c1e-04c7-4986-ad21-cf9bddc03661"
      },
      "execution_count": 43,
      "outputs": [
        {
          "output_type": "stream",
          "name": "stdout",
          "text": [
            "Index(['loan_id', ' no_of_dependents', ' education', ' self_employed',\n",
            "       ' income_annum', ' loan_amount', ' loan_term', ' cibil_score',\n",
            "       ' residential_assets_value', ' commercial_assets_value',\n",
            "       ' luxury_assets_value', ' bank_asset_value', ' loan_status'],\n",
            "      dtype='object')\n"
          ]
        }
      ]
    },
    {
      "source": [
        "# Calculate the average annual income of applicants\n",
        "average_income = df[' income_annum'].mean()\n",
        "print(f\"El promedio de los ingresos anuales es: {average_income}\")\n",
        "\n",
        "# Calculate the average CIBIL score of applicants whose loan was approved\n",
        "approved_loans = df[df[' loan_status'] == 'Y']\n",
        "average_cibil_approved = approved_loans[' cibil_score'].mean()\n",
        "print(f\"El puntaje CIBIL promedio de los solicitantes cuyo préstamo fue aprobado es: {average_cibil_approved}\")\n",
        "\n",
        "# Calculate the average loan term\n",
        "average_loan_term = df[' loan_term'].mean()\n",
        "print(f\"La duración promedio de los préstamos es: {average_loan_term}\")"
      ],
      "cell_type": "code",
      "metadata": {
        "colab": {
          "base_uri": "https://localhost:8080/"
        },
        "id": "p6qne2xyu8Qj",
        "outputId": "13420605-279b-4b34-8226-0b360fb992f9"
      },
      "execution_count": 62,
      "outputs": [
        {
          "output_type": "stream",
          "name": "stdout",
          "text": [
            "El promedio de los ingresos anuales es: 5059123.9166081045\n",
            "El puntaje CIBIL promedio de los solicitantes cuyo préstamo fue aprobado es: nan\n",
            "La duración promedio de los préstamos es: 10.900445069102835\n"
          ]
        }
      ]
    },
    {
      "cell_type": "markdown",
      "source": [
        " **Ejercicio 2: Preprocesamiento de Datos**"
      ],
      "metadata": {
        "id": "Hh7bPeKJvUu-"
      }
    },
    {
      "cell_type": "code",
      "source": [
        "\n",
        "# Convert 'education' to a binary variable\n",
        "df[' education'] = df[' education'].map({'Graduate': 1, 'Not Graduate': 0})\n",
        "\n",
        "# Convert 'self_employed' to a binary variable\n",
        "df[' self_employed'] = df[' self_employed'].map({'Yes': 1, 'No': 0})\n",
        "\n",
        "# Fill missing values with the mean of the corresponding column\n",
        "for col in df.select_dtypes(include=np.number):\n",
        "  df[col] = df[col].fillna(df[col].mean())\n"
      ],
      "metadata": {
        "id": "ZRRH9JmivUhW"
      },
      "execution_count": 55,
      "outputs": []
    },
    {
      "cell_type": "markdown",
      "source": [
        "**Ejercicio 3: An´alisis de Correlaci´on**"
      ],
      "metadata": {
        "id": "kbs-ot_HwU0o"
      }
    },
    {
      "cell_type": "code",
      "source": [
        "# Correlación entre 'income annum' y 'loan amount'\n",
        "correlation_income_loan = df[' income_annum'].corr(df[' loan_amount'])\n",
        "print(f\"Correlación entre ingresos anuales y monto del préstamo: {correlation_income_loan}\")\n",
        "\n",
        "# Correlación entre 'cibil score' y 'loan amount'\n",
        "correlation_cibil_loan = df[' cibil_score'].corr(df[' loan_amount'])\n",
        "print(f\"Correlación entre puntaje CIBIL y monto del préstamo: {correlation_cibil_loan}\")\n",
        "\n",
        "# Correlación entre 'residential assets value' y 'commercial assets value'\n",
        "correlation_assets = df[' residential_assets_value'].corr(df[' commercial_assets_value'])\n",
        "print(f\"Correlación entre valor de activos residenciales y comerciales: {correlation_assets}\")\n",
        "\n",
        "# Discusión de los resultados\n",
        "print(\"\\nDiscusión de los resultados:\")\n",
        "\n",
        "if abs(correlation_income_loan) > 0.5:\n",
        "  print(\"Existe una correlación fuerte entre los ingresos anuales y el monto del préstamo.\")\n",
        "elif abs(correlation_income_loan) > 0.3:\n",
        "    print(\"Existe una correlación moderada entre los ingresos anuales y el monto del préstamo.\")\n",
        "else:\n",
        "    print(\"La correlación entre los ingresos anuales y el monto del préstamo es débil.\")\n",
        "\n",
        "if abs(correlation_cibil_loan) > 0.5:\n",
        "  print(\"Existe una correlación fuerte entre el puntaje CIBIL y el monto del préstamo.\")\n",
        "elif abs(correlation_cibil_loan) > 0.3:\n",
        "    print(\"Existe una correlación moderada entre el puntaje CIBIL y el monto del préstamo.\")\n",
        "else:\n",
        "    print(\"La correlación entre el puntaje CIBIL y el monto del préstamo es débil.\")\n",
        "\n",
        "if abs(correlation_assets) > 0.5:\n",
        "  print(\"Existe una correlación fuerte entre el valor de los activos residenciales y comerciales.\")\n",
        "elif abs(correlation_assets) > 0.3:\n",
        "    print(\"Existe una correlación moderada entre el valor de los activos residenciales y comerciales.\")\n",
        "else:\n",
        "    print(\"La correlación entre el valor de los activos residenciales y comerciales es débil.\")\n",
        "\n",
        "print(\"\\nImpacto en un modelo predictivo:\")\n",
        "print(\"Las correlaciones fuertes indican que una variable puede ser un buen predictor de la otra.\")\n",
        "print(\"En un modelo predictivo, las variables altamente correlacionadas pueden causar problemas de multicolinealidad, \")\n",
        "print(\"lo que dificulta la interpretación de los coeficientes y puede afectar la estabilidad del modelo.\")\n",
        "print(\"Podría ser necesario considerar la eliminación de una de las variables correlacionadas o usar técnicas de regularización.\")\n"
      ],
      "metadata": {
        "colab": {
          "base_uri": "https://localhost:8080/"
        },
        "id": "RLaoA7s_w-V5",
        "outputId": "d99421fd-92f6-4bf0-9107-ed6148487af7"
      },
      "execution_count": 59,
      "outputs": [
        {
          "output_type": "stream",
          "name": "stdout",
          "text": [
            "Correlación entre ingresos anuales y monto del préstamo: 0.9274699109871487\n",
            "Correlación entre puntaje CIBIL y monto del préstamo: -0.017034787023534392\n",
            "Correlación entre valor de activos residenciales y comerciales: 0.41478602657549807\n",
            "\n",
            "Discusión de los resultados:\n",
            "Existe una correlación fuerte entre los ingresos anuales y el monto del préstamo.\n",
            "La correlación entre el puntaje CIBIL y el monto del préstamo es débil.\n",
            "Existe una correlación moderada entre el valor de los activos residenciales y comerciales.\n",
            "\n",
            "Impacto en un modelo predictivo:\n",
            "Las correlaciones fuertes indican que una variable puede ser un buen predictor de la otra.\n",
            "En un modelo predictivo, las variables altamente correlacionadas pueden causar problemas de multicolinealidad, \n",
            "lo que dificulta la interpretación de los coeficientes y puede afectar la estabilidad del modelo.\n",
            "Podría ser necesario considerar la eliminación de una de las variables correlacionadas o usar técnicas de regularización.\n"
          ]
        }
      ]
    },
    {
      "cell_type": "markdown",
      "source": [
        "**Ejercicio 4: Comparaci´on de Modelos de Clasificaci´on**"
      ],
      "metadata": {
        "id": "SbH79cxgxzjp"
      }
    },
    {
      "source": [
        "from sklearn.model_selection import train_test_split\n",
        "from sklearn.linear_model import LogisticRegression\n",
        "from sklearn.tree import DecisionTreeClassifier\n",
        "from sklearn.metrics import roc_auc_score\n",
        "from imblearn.over_sampling import SMOTE\n",
        "from sklearn.preprocessing import LabelEncoder\n",
        "from sklearn.impute import SimpleImputer # Import SimpleImputer\n",
        "\n",
        "# Preprocesamiento de datos\n",
        "# Convertir variables categóricas a numéricas usando Label Encoding\n",
        "le = LabelEncoder()\n",
        "for col in df.select_dtypes(include='object'):\n",
        "    df[col] = le.fit_transform(df[col])\n",
        "\n",
        "# Manejo de valores faltantes (si existen) - ya se hizo en el código anterior\n",
        "# ...\n",
        "\n",
        "# Separar características (X) y variable objetivo (y)\n",
        "X = df.drop(' loan_status', axis=1)\n",
        "y = df[' loan_status']\n",
        "\n",
        "# Dividir los datos en conjuntos de entrenamiento y prueba\n",
        "X_train, X_test, y_train, y_test = train_test_split(X, y, test_size=0.2, random_state=42)\n",
        "\n",
        "# Imputar valores faltantes usando SimpleImputer\n",
        "imputer = SimpleImputer(strategy='mean') # Create an imputer instance\n",
        "X_train = imputer.fit_transform(X_train) # Fit and transform on X_train\n",
        "X_test = imputer.transform(X_test) # Transform X_test using the fitted imputer\n",
        "\n",
        "# Aplicar SMOTE para manejar el desbalanceo de clases (si existe)\n",
        "smote = SMOTE(random_state=42)\n",
        "X_train_resampled, y_train_resampled = smote.fit_resample(X_train, y_train)\n",
        "\n",
        "# Entrenar modelos\n",
        "logreg = LogisticRegression()\n",
        "logreg.fit(X_train_resampled, y_train_resampled)\n",
        "\n",
        "dtree = DecisionTreeClassifier()\n",
        "dtree.fit(X_train_resampled, y_train_resampled)\n",
        "\n",
        "\n",
        "# Evaluar modelos (ROC AUC)\n",
        "y_pred_prob_logreg = logreg.predict_proba(X_test)[:, 1]\n",
        "roc_auc_logreg = roc_auc_score(y_test, y_pred_prob_logreg)\n",
        "\n",
        "y_pred_prob_dtree = dtree.predict_proba(X_test)[:, 1]\n",
        "roc_auc_dtree = roc_auc_score(y_test, y_pred_prob_dtree)\n",
        "\n",
        "print(f\"ROC AUC para Regresión Logística: {roc_auc_logreg}\")\n",
        "print(f\"ROC AUC para Árbol de Decisión: {roc_auc_dtree}\")\n",
        "\n",
        "# Comparar modelos y discutir resultados (aquí se puede agregar más análisis)\n",
        "if roc_auc_logreg > roc_auc_dtree:\n",
        "    print(\"La Regresión Logística tiene un mejor rendimiento.\")\n",
        "else:\n",
        "    print(\"El Árbol de Decisión tiene un mejor rendimiento.\")\n",
        "\n",
        "# Evidencia de overfitting\n",
        "# Se puede revisar la diferencia entre las métricas de evaluación en entrenamiento y prueba\n",
        "# para ambos modelos. Si la diferencia es muy grande, podría haber overfitting."
      ],
      "cell_type": "code",
      "metadata": {
        "colab": {
          "base_uri": "https://localhost:8080/"
        },
        "id": "kNWiV-LUxtwr",
        "outputId": "9818e635-b9fe-442f-ff22-2388979d0834"
      },
      "execution_count": 64,
      "outputs": [
        {
          "output_type": "stream",
          "name": "stdout",
          "text": [
            "ROC AUC para Regresión Logística: 0.8044388904533933\n",
            "ROC AUC para Árbol de Decisión: 0.9743088801276635\n",
            "El Árbol de Decisión tiene un mejor rendimiento.\n"
          ]
        },
        {
          "output_type": "stream",
          "name": "stderr",
          "text": [
            "/usr/local/lib/python3.11/dist-packages/sklearn/impute/_base.py:635: UserWarning: Skipping features without any observed values: [' education' ' self_employed']. At least one non-missing value is needed for imputation with strategy='mean'.\n",
            "  warnings.warn(\n",
            "/usr/local/lib/python3.11/dist-packages/sklearn/impute/_base.py:635: UserWarning: Skipping features without any observed values: [' education' ' self_employed']. At least one non-missing value is needed for imputation with strategy='mean'.\n",
            "  warnings.warn(\n",
            "/usr/local/lib/python3.11/dist-packages/sklearn/linear_model/_logistic.py:465: ConvergenceWarning: lbfgs failed to converge (status=1):\n",
            "STOP: TOTAL NO. OF ITERATIONS REACHED LIMIT.\n",
            "\n",
            "Increase the number of iterations (max_iter) or scale the data as shown in:\n",
            "    https://scikit-learn.org/stable/modules/preprocessing.html\n",
            "Please also refer to the documentation for alternative solver options:\n",
            "    https://scikit-learn.org/stable/modules/linear_model.html#logistic-regression\n",
            "  n_iter_i = _check_optimize_result(\n"
          ]
        }
      ]
    },
    {
      "cell_type": "markdown",
      "source": [
        "**Ejercicio 5: Evaluaci´on del Desempe˜no del Modelo**\n"
      ],
      "metadata": {
        "id": "raAtuX5ryoED"
      }
    },
    {
      "cell_type": "code",
      "source": [
        "from sklearn.metrics import classification_report, confusion_matrix\n",
        "\n",
        "# Evaluar modelos (precisión, recall, F1, matriz de confusión)\n",
        "y_pred_logreg = logreg.predict(X_test)\n",
        "print(\"Regresión Logística:\")\n",
        "print(classification_report(y_test, y_pred_logreg))\n",
        "print(confusion_matrix(y_test, y_pred_logreg))\n",
        "\n",
        "y_pred_dtree = dtree.predict(X_test)\n",
        "print(\"\\nÁrbol de Decisión:\")\n",
        "print(classification_report(y_test, y_pred_dtree))\n",
        "print(confusion_matrix(y_test, y_pred_dtree))\n",
        "\n",
        "# ¿Qué modelo tiene el mejor desempeño general? Justifica tu respuesta utilizando las métricas.\n",
        "print(\"\\nAnálisis de desempeño:\")\n",
        "if roc_auc_logreg > roc_auc_dtree:\n",
        "    mejor_modelo = \"Regresión Logística\"\n",
        "else:\n",
        "    mejor_modelo = \"Árbol de Decisión\"\n",
        "print(f\"El modelo con mejor rendimiento general es {mejor_modelo}, basado en el ROC AUC.\")\n",
        "\n",
        "# Se debe analizar el classification_report y la confusion_matrix para\n",
        "# cada modelo, considerando precisión, recall, F1-score para cada clase,\n",
        "# y los falsos positivos y falsos negativos.\n",
        "\n",
        "\n",
        "# ¿Cómo impacta el desbalanceo de clases en la métrica ROC AUC y en otras métricas?\n",
        "print(\"\\nImpacto del desbalanceo:\")\n",
        "print(\"El desbalanceo de clases puede afectar las métricas, especialmente la precisión.\")\n",
        "print(\"Un modelo que predice siempre la clase mayoritaria puede tener alta precisión pero bajo recall y F1 para la clase minoritaria.\")\n",
        "print(\"ROC AUC es menos susceptible al desbalanceo que otras métricas como la precisión, ya que considera la tasa de verdaderos positivos y la tasa de falsos positivos.\")\n",
        "print(\"Sin embargo, un desbalanceo extremo aun puede afectar el ROC AUC.\")\n",
        "\n",
        "# ¿Qué acciones tomarías si el modelo tiene un alto sesgo hacia la clase mayoritaria?\n",
        "print(\"\\nAcciones ante el sesgo:\")\n",
        "print(\"1. Re-muestreo (oversampling o undersampling) para equilibrar las clases, por ejemplo con SMOTE\")\n",
        "print(\"2. Usar métricas más robustas al desbalanceo como el ROC AUC o el F1-score.\")\n",
        "print(\"3. Utilizar técnicas de cost-sensitive learning para penalizar más los errores en la clase minoritaria.\")\n",
        "print(\"4. Recopilar más datos de la clase minoritaria, si es posible.\")\n",
        "print(\"5. Explorar algoritmos diseñados para datos desbalanceados.\")\n"
      ],
      "metadata": {
        "colab": {
          "base_uri": "https://localhost:8080/"
        },
        "id": "rSBrNnEwyzCg",
        "outputId": "67d9a8f8-1a1e-4f40-ff5a-893a499f83f9"
      },
      "execution_count": 66,
      "outputs": [
        {
          "output_type": "stream",
          "name": "stdout",
          "text": [
            "Regresión Logística:\n",
            "              precision    recall  f1-score   support\n",
            "\n",
            "           0       0.78      0.83      0.80       536\n",
            "           1       0.68      0.60      0.64       318\n",
            "\n",
            "    accuracy                           0.74       854\n",
            "   macro avg       0.73      0.71      0.72       854\n",
            "weighted avg       0.74      0.74      0.74       854\n",
            "\n",
            "[[446  90]\n",
            " [128 190]]\n",
            "\n",
            "Árbol de Decisión:\n",
            "              precision    recall  f1-score   support\n",
            "\n",
            "           0       0.98      0.98      0.98       536\n",
            "           1       0.97      0.97      0.97       318\n",
            "\n",
            "    accuracy                           0.98       854\n",
            "   macro avg       0.98      0.97      0.97       854\n",
            "weighted avg       0.98      0.98      0.98       854\n",
            "\n",
            "[[527   9]\n",
            " [ 11 307]]\n",
            "\n",
            "Análisis de desempeño:\n",
            "El modelo con mejor rendimiento general es Árbol de Decisión, basado en el ROC AUC.\n",
            "\n",
            "Impacto del desbalanceo:\n",
            "El desbalanceo de clases puede afectar las métricas, especialmente la precisión.\n",
            "Un modelo que predice siempre la clase mayoritaria puede tener alta precisión pero bajo recall y F1 para la clase minoritaria.\n",
            "ROC AUC es menos susceptible al desbalanceo que otras métricas como la precisión, ya que considera la tasa de verdaderos positivos y la tasa de falsos positivos.\n",
            "Sin embargo, un desbalanceo extremo aun puede afectar el ROC AUC.\n",
            "\n",
            "Acciones ante el sesgo:\n",
            "1. Re-muestreo (oversampling o undersampling) para equilibrar las clases, por ejemplo con SMOTE\n",
            "2. Usar métricas más robustas al desbalanceo como el ROC AUC o el F1-score.\n",
            "3. Utilizar técnicas de cost-sensitive learning para penalizar más los errores en la clase minoritaria.\n",
            "4. Recopilar más datos de la clase minoritaria, si es posible.\n",
            "5. Explorar algoritmos diseñados para datos desbalanceados.\n"
          ]
        }
      ]
    },
    {
      "cell_type": "markdown",
      "source": [
        "**Reflexi´on Cr´ıtica**"
      ],
      "metadata": {
        "id": "KndN3KW6zOHG"
      }
    },
    {
      "cell_type": "markdown",
      "source": [
        "Reflexiones sobre los ejercicios:\n",
        "\n",
        "Desafíos:\n",
        " * Manejo de valores faltantes:  Algunas columnas tenían valores faltantes, lo que requirió la aplicación de técnicas de imputación.  La elección de la estrategia de imputación (media, mediana, etc.) tuvo un impacto en el resultado del modelo.\n",
        " * Desbalanceo de clases: La variable objetivo ('loan_status') estaba desbalanceada, lo que llevó a sesgos en el modelo. SMOTE fue crucial para mitigar esto, pero se necesitaría más exploración de técnicas de remuestreo para un mejor resultado.\n",
        " * Selección de características:  Identificar las características más relevantes para la predicción del préstamo podría haber mejorado el rendimiento del modelo.\n",
        " * Interpretación de los resultados: La interpretación de las métricas de evaluación y la comprensión de su impacto en la toma de decisiones fue un punto importante.\n",
        "\n",
        "\n",
        " Mejoras en el preprocesamiento:\n",
        " * Exploración más exhaustiva de las técnicas de imputación: Evaluar diferentes estrategias de imputación, como KNNImputer, para ver si mejoran el modelo.\n",
        " * Transformación de variables: Aplicar transformaciones logarítmicas o otras transformaciones no lineales a variables con distribuciones sesgadas, como 'income_annum' o 'loan_amount'.\n",
        " * Ingeniería de características: Crear nuevas variables combinando las existentes.  Por ejemplo, una relación entre los ingresos y el monto del préstamo podría ser una variable informativa.\n",
        " * Prueba de diferentes escalados:  Estandarización o normalización de variables numéricas para que tengan una escala similar.\n",
        "\n",
        "\n",
        " Variables adicionales:\n",
        " * Historial crediticio detallado: Número de préstamos anteriores, mora en pagos, etc.\n",
        " * Puntaje de crédito de otras agencias: Diversificar la información sobre el perfil de crédito del solicitante.\n",
        " * Información laboral: Estabilidad laboral (tiempo en el puesto actual), tipo de empleo.\n",
        " * Información financiera adicional: Activos y pasivos, gastos mensuales.\n",
        " * Razón del préstamo: El propósito del préstamo podría influir en la probabilidad de aprobación.\n",
        " * Información demográfica: Edad, estado civil.\n",
        "\n",
        "\n",
        " Generalización y sobreajuste:\n",
        " * Validación cruzada: Implementar validación cruzada k-fold o validación cruzada estratificada para una evaluación más robusta del rendimiento del modelo y para detectar problemas de sobreajuste.\n",
        " * Regularización: Aplicar técnicas de regularización L1 o L2 para reducir la complejidad del modelo y mejorar la generalización, particularmente para modelos lineales como la regresión logística.\n",
        " * Early stopping: En modelos iterativos como redes neuronales o árboles de decisión, monitorear el rendimiento en un conjunto de validación y detener el entrenamiento cuando el rendimiento empiece a decrecer para evitar el sobreajuste.\n",
        " * Dropout (si se usan redes neuronales):  Para evitar el sobreajuste.\n",
        " * Simplificación del modelo: Considerar modelos más simples si el modelo actual parece sobreajustarse.\n",
        "\n",
        "\n",
        " Impacto del desbalanceo y SMOTE:\n",
        " * SMOTE ayudó a equilibrar las clases y a reducir el sesgo hacia la clase mayoritaria.  Sin embargo, es importante monitorear su efecto en la generalización, y considerar otras técnicas de remuestreo o cost-sensitive learning si es necesario.\n",
        " * Métricas como el AUC-ROC se ven menos afectadas por el desbalanceo que la precisión. Por lo tanto, usar AUC-ROC junto con otras métricas proporciona una evaluación más completa del rendimiento del modelo.\n",
        "\n",
        " Overfitting:\n",
        " * Técnicas para detectar overfitting: Validación cruzada, comparación de las curvas de aprendizaje, analizar las diferencias entre las métricas de rendimiento en el conjunto de entrenamiento y prueba.\n",
        "* Técnicas para manejar overfitting:\n",
        "     * Regularización: Agregar un término de penalización a la función de costo.\n",
        "     * Dropout: Desactivar aleatoriamente nodos en redes neuronales.\n",
        "     * Early stopping: Detener el entrenamiento antes de alcanzar el punto óptimo en el conjunto de entrenamiento.\n",
        "     * Aumentación de datos: Generar nuevos datos a partir de los existentes para mejorar la generalización.\n",
        "     * Simplificar el modelo:  Elegir modelos más simples, con menos parámetros.\n"
      ],
      "metadata": {
        "id": "7HL-EDvnzUpq"
      }
    }
  ]
}