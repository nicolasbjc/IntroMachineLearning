{
  "cells": [
    {
      "cell_type": "markdown",
      "id": "eec443ae",
      "metadata": {
        "id": "eec443ae"
      },
      "source": [
        "# 🛒 Taller: Predicción de compras con árboles de decisión\n",
        "\n",
        "**Objetivo:** Predecir si una persona realizará una compra (`Purchased`) a partir de características como edad, salario estimado y género."
      ]
    },
    {
      "cell_type": "code",
      "source": [
        "!wget https://github.com/javierherrera1996/lecture_analytics/raw/refs/heads/main/titanic_train.csv"
      ],
      "metadata": {
        "colab": {
          "base_uri": "https://localhost:8080/"
        },
        "id": "Z66XiPRc6fbV",
        "outputId": "4b65fb4b-3e90-4f98-9d6b-90be762e750e"
      },
      "id": "Z66XiPRc6fbV",
      "execution_count": 8,
      "outputs": [
        {
          "output_type": "stream",
          "name": "stdout",
          "text": [
            "--2025-04-09 21:17:39--  https://github.com/javierherrera1996/lecture_analytics/raw/refs/heads/main/titanic_train.csv\n",
            "Resolving github.com (github.com)... 140.82.112.3\n",
            "Connecting to github.com (github.com)|140.82.112.3|:443... connected.\n",
            "HTTP request sent, awaiting response... 302 Found\n",
            "Location: https://raw.githubusercontent.com/javierherrera1996/lecture_analytics/refs/heads/main/titanic_train.csv [following]\n",
            "--2025-04-09 21:17:39--  https://raw.githubusercontent.com/javierherrera1996/lecture_analytics/refs/heads/main/titanic_train.csv\n",
            "Resolving raw.githubusercontent.com (raw.githubusercontent.com)... 185.199.108.133, 185.199.109.133, 185.199.110.133, ...\n",
            "Connecting to raw.githubusercontent.com (raw.githubusercontent.com)|185.199.108.133|:443... connected.\n",
            "HTTP request sent, awaiting response... 200 OK\n",
            "Length: 61194 (60K) [text/plain]\n",
            "Saving to: ‘titanic_train.csv.1’\n",
            "\n",
            "\rtitanic_train.csv.1   0%[                    ]       0  --.-KB/s               \rtitanic_train.csv.1 100%[===================>]  59.76K  --.-KB/s    in 0.02s   \n",
            "\n",
            "2025-04-09 21:17:39 (2.82 MB/s) - ‘titanic_train.csv.1’ saved [61194/61194]\n",
            "\n"
          ]
        }
      ]
    },
    {
      "cell_type": "markdown",
      "id": "05bab634",
      "metadata": {
        "id": "05bab634"
      },
      "source": [
        "## 📥 1. Carga y exploración del dataset"
      ]
    },
    {
      "cell_type": "code",
      "execution_count": 9,
      "id": "b6243d68",
      "metadata": {
        "id": "b6243d68",
        "outputId": "f47b1090-7f96-4a6e-8009-c2a6093cb93a",
        "colab": {
          "base_uri": "https://localhost:8080/",
          "height": 630
        }
      },
      "outputs": [
        {
          "output_type": "stream",
          "name": "stdout",
          "text": [
            "<class 'pandas.core.frame.DataFrame'>\n",
            "RangeIndex: 891 entries, 0 to 890\n",
            "Data columns (total 12 columns):\n",
            " #   Column       Non-Null Count  Dtype  \n",
            "---  ------       --------------  -----  \n",
            " 0   PassengerId  891 non-null    int64  \n",
            " 1   Survived     891 non-null    int64  \n",
            " 2   Pclass       891 non-null    int64  \n",
            " 3   Name         891 non-null    object \n",
            " 4   Sex          891 non-null    object \n",
            " 5   Age          714 non-null    float64\n",
            " 6   SibSp        891 non-null    int64  \n",
            " 7   Parch        891 non-null    int64  \n",
            " 8   Ticket       891 non-null    object \n",
            " 9   Fare         891 non-null    float64\n",
            " 10  Cabin        204 non-null    object \n",
            " 11  Embarked     889 non-null    object \n",
            "dtypes: float64(2), int64(5), object(5)\n",
            "memory usage: 83.7+ KB\n"
          ]
        },
        {
          "output_type": "execute_result",
          "data": {
            "text/plain": [
              "       PassengerId    Survived      Pclass         Age       SibSp  \\\n",
              "count   891.000000  891.000000  891.000000  714.000000  891.000000   \n",
              "mean    446.000000    0.383838    2.308642   29.699118    0.523008   \n",
              "std     257.353842    0.486592    0.836071   14.526497    1.102743   \n",
              "min       1.000000    0.000000    1.000000    0.420000    0.000000   \n",
              "25%     223.500000    0.000000    2.000000   20.125000    0.000000   \n",
              "50%     446.000000    0.000000    3.000000   28.000000    0.000000   \n",
              "75%     668.500000    1.000000    3.000000   38.000000    1.000000   \n",
              "max     891.000000    1.000000    3.000000   80.000000    8.000000   \n",
              "\n",
              "            Parch        Fare  \n",
              "count  891.000000  891.000000  \n",
              "mean     0.381594   32.204208  \n",
              "std      0.806057   49.693429  \n",
              "min      0.000000    0.000000  \n",
              "25%      0.000000    7.910400  \n",
              "50%      0.000000   14.454200  \n",
              "75%      0.000000   31.000000  \n",
              "max      6.000000  512.329200  "
            ],
            "text/html": [
              "\n",
              "  <div id=\"df-7376d86c-036d-4227-8a94-4f43ab3e8c0f\" class=\"colab-df-container\">\n",
              "    <div>\n",
              "<style scoped>\n",
              "    .dataframe tbody tr th:only-of-type {\n",
              "        vertical-align: middle;\n",
              "    }\n",
              "\n",
              "    .dataframe tbody tr th {\n",
              "        vertical-align: top;\n",
              "    }\n",
              "\n",
              "    .dataframe thead th {\n",
              "        text-align: right;\n",
              "    }\n",
              "</style>\n",
              "<table border=\"1\" class=\"dataframe\">\n",
              "  <thead>\n",
              "    <tr style=\"text-align: right;\">\n",
              "      <th></th>\n",
              "      <th>PassengerId</th>\n",
              "      <th>Survived</th>\n",
              "      <th>Pclass</th>\n",
              "      <th>Age</th>\n",
              "      <th>SibSp</th>\n",
              "      <th>Parch</th>\n",
              "      <th>Fare</th>\n",
              "    </tr>\n",
              "  </thead>\n",
              "  <tbody>\n",
              "    <tr>\n",
              "      <th>count</th>\n",
              "      <td>891.000000</td>\n",
              "      <td>891.000000</td>\n",
              "      <td>891.000000</td>\n",
              "      <td>714.000000</td>\n",
              "      <td>891.000000</td>\n",
              "      <td>891.000000</td>\n",
              "      <td>891.000000</td>\n",
              "    </tr>\n",
              "    <tr>\n",
              "      <th>mean</th>\n",
              "      <td>446.000000</td>\n",
              "      <td>0.383838</td>\n",
              "      <td>2.308642</td>\n",
              "      <td>29.699118</td>\n",
              "      <td>0.523008</td>\n",
              "      <td>0.381594</td>\n",
              "      <td>32.204208</td>\n",
              "    </tr>\n",
              "    <tr>\n",
              "      <th>std</th>\n",
              "      <td>257.353842</td>\n",
              "      <td>0.486592</td>\n",
              "      <td>0.836071</td>\n",
              "      <td>14.526497</td>\n",
              "      <td>1.102743</td>\n",
              "      <td>0.806057</td>\n",
              "      <td>49.693429</td>\n",
              "    </tr>\n",
              "    <tr>\n",
              "      <th>min</th>\n",
              "      <td>1.000000</td>\n",
              "      <td>0.000000</td>\n",
              "      <td>1.000000</td>\n",
              "      <td>0.420000</td>\n",
              "      <td>0.000000</td>\n",
              "      <td>0.000000</td>\n",
              "      <td>0.000000</td>\n",
              "    </tr>\n",
              "    <tr>\n",
              "      <th>25%</th>\n",
              "      <td>223.500000</td>\n",
              "      <td>0.000000</td>\n",
              "      <td>2.000000</td>\n",
              "      <td>20.125000</td>\n",
              "      <td>0.000000</td>\n",
              "      <td>0.000000</td>\n",
              "      <td>7.910400</td>\n",
              "    </tr>\n",
              "    <tr>\n",
              "      <th>50%</th>\n",
              "      <td>446.000000</td>\n",
              "      <td>0.000000</td>\n",
              "      <td>3.000000</td>\n",
              "      <td>28.000000</td>\n",
              "      <td>0.000000</td>\n",
              "      <td>0.000000</td>\n",
              "      <td>14.454200</td>\n",
              "    </tr>\n",
              "    <tr>\n",
              "      <th>75%</th>\n",
              "      <td>668.500000</td>\n",
              "      <td>1.000000</td>\n",
              "      <td>3.000000</td>\n",
              "      <td>38.000000</td>\n",
              "      <td>1.000000</td>\n",
              "      <td>0.000000</td>\n",
              "      <td>31.000000</td>\n",
              "    </tr>\n",
              "    <tr>\n",
              "      <th>max</th>\n",
              "      <td>891.000000</td>\n",
              "      <td>1.000000</td>\n",
              "      <td>3.000000</td>\n",
              "      <td>80.000000</td>\n",
              "      <td>8.000000</td>\n",
              "      <td>6.000000</td>\n",
              "      <td>512.329200</td>\n",
              "    </tr>\n",
              "  </tbody>\n",
              "</table>\n",
              "</div>\n",
              "    <div class=\"colab-df-buttons\">\n",
              "\n",
              "  <div class=\"colab-df-container\">\n",
              "    <button class=\"colab-df-convert\" onclick=\"convertToInteractive('df-7376d86c-036d-4227-8a94-4f43ab3e8c0f')\"\n",
              "            title=\"Convert this dataframe to an interactive table.\"\n",
              "            style=\"display:none;\">\n",
              "\n",
              "  <svg xmlns=\"http://www.w3.org/2000/svg\" height=\"24px\" viewBox=\"0 -960 960 960\">\n",
              "    <path d=\"M120-120v-720h720v720H120Zm60-500h600v-160H180v160Zm220 220h160v-160H400v160Zm0 220h160v-160H400v160ZM180-400h160v-160H180v160Zm440 0h160v-160H620v160ZM180-180h160v-160H180v160Zm440 0h160v-160H620v160Z\"/>\n",
              "  </svg>\n",
              "    </button>\n",
              "\n",
              "  <style>\n",
              "    .colab-df-container {\n",
              "      display:flex;\n",
              "      gap: 12px;\n",
              "    }\n",
              "\n",
              "    .colab-df-convert {\n",
              "      background-color: #E8F0FE;\n",
              "      border: none;\n",
              "      border-radius: 50%;\n",
              "      cursor: pointer;\n",
              "      display: none;\n",
              "      fill: #1967D2;\n",
              "      height: 32px;\n",
              "      padding: 0 0 0 0;\n",
              "      width: 32px;\n",
              "    }\n",
              "\n",
              "    .colab-df-convert:hover {\n",
              "      background-color: #E2EBFA;\n",
              "      box-shadow: 0px 1px 2px rgba(60, 64, 67, 0.3), 0px 1px 3px 1px rgba(60, 64, 67, 0.15);\n",
              "      fill: #174EA6;\n",
              "    }\n",
              "\n",
              "    .colab-df-buttons div {\n",
              "      margin-bottom: 4px;\n",
              "    }\n",
              "\n",
              "    [theme=dark] .colab-df-convert {\n",
              "      background-color: #3B4455;\n",
              "      fill: #D2E3FC;\n",
              "    }\n",
              "\n",
              "    [theme=dark] .colab-df-convert:hover {\n",
              "      background-color: #434B5C;\n",
              "      box-shadow: 0px 1px 3px 1px rgba(0, 0, 0, 0.15);\n",
              "      filter: drop-shadow(0px 1px 2px rgba(0, 0, 0, 0.3));\n",
              "      fill: #FFFFFF;\n",
              "    }\n",
              "  </style>\n",
              "\n",
              "    <script>\n",
              "      const buttonEl =\n",
              "        document.querySelector('#df-7376d86c-036d-4227-8a94-4f43ab3e8c0f button.colab-df-convert');\n",
              "      buttonEl.style.display =\n",
              "        google.colab.kernel.accessAllowed ? 'block' : 'none';\n",
              "\n",
              "      async function convertToInteractive(key) {\n",
              "        const element = document.querySelector('#df-7376d86c-036d-4227-8a94-4f43ab3e8c0f');\n",
              "        const dataTable =\n",
              "          await google.colab.kernel.invokeFunction('convertToInteractive',\n",
              "                                                    [key], {});\n",
              "        if (!dataTable) return;\n",
              "\n",
              "        const docLinkHtml = 'Like what you see? Visit the ' +\n",
              "          '<a target=\"_blank\" href=https://colab.research.google.com/notebooks/data_table.ipynb>data table notebook</a>'\n",
              "          + ' to learn more about interactive tables.';\n",
              "        element.innerHTML = '';\n",
              "        dataTable['output_type'] = 'display_data';\n",
              "        await google.colab.output.renderOutput(dataTable, element);\n",
              "        const docLink = document.createElement('div');\n",
              "        docLink.innerHTML = docLinkHtml;\n",
              "        element.appendChild(docLink);\n",
              "      }\n",
              "    </script>\n",
              "  </div>\n",
              "\n",
              "\n",
              "<div id=\"df-5184d83d-14ee-42e2-902b-04029ec4b356\">\n",
              "  <button class=\"colab-df-quickchart\" onclick=\"quickchart('df-5184d83d-14ee-42e2-902b-04029ec4b356')\"\n",
              "            title=\"Suggest charts\"\n",
              "            style=\"display:none;\">\n",
              "\n",
              "<svg xmlns=\"http://www.w3.org/2000/svg\" height=\"24px\"viewBox=\"0 0 24 24\"\n",
              "     width=\"24px\">\n",
              "    <g>\n",
              "        <path d=\"M19 3H5c-1.1 0-2 .9-2 2v14c0 1.1.9 2 2 2h14c1.1 0 2-.9 2-2V5c0-1.1-.9-2-2-2zM9 17H7v-7h2v7zm4 0h-2V7h2v10zm4 0h-2v-4h2v4z\"/>\n",
              "    </g>\n",
              "</svg>\n",
              "  </button>\n",
              "\n",
              "<style>\n",
              "  .colab-df-quickchart {\n",
              "      --bg-color: #E8F0FE;\n",
              "      --fill-color: #1967D2;\n",
              "      --hover-bg-color: #E2EBFA;\n",
              "      --hover-fill-color: #174EA6;\n",
              "      --disabled-fill-color: #AAA;\n",
              "      --disabled-bg-color: #DDD;\n",
              "  }\n",
              "\n",
              "  [theme=dark] .colab-df-quickchart {\n",
              "      --bg-color: #3B4455;\n",
              "      --fill-color: #D2E3FC;\n",
              "      --hover-bg-color: #434B5C;\n",
              "      --hover-fill-color: #FFFFFF;\n",
              "      --disabled-bg-color: #3B4455;\n",
              "      --disabled-fill-color: #666;\n",
              "  }\n",
              "\n",
              "  .colab-df-quickchart {\n",
              "    background-color: var(--bg-color);\n",
              "    border: none;\n",
              "    border-radius: 50%;\n",
              "    cursor: pointer;\n",
              "    display: none;\n",
              "    fill: var(--fill-color);\n",
              "    height: 32px;\n",
              "    padding: 0;\n",
              "    width: 32px;\n",
              "  }\n",
              "\n",
              "  .colab-df-quickchart:hover {\n",
              "    background-color: var(--hover-bg-color);\n",
              "    box-shadow: 0 1px 2px rgba(60, 64, 67, 0.3), 0 1px 3px 1px rgba(60, 64, 67, 0.15);\n",
              "    fill: var(--button-hover-fill-color);\n",
              "  }\n",
              "\n",
              "  .colab-df-quickchart-complete:disabled,\n",
              "  .colab-df-quickchart-complete:disabled:hover {\n",
              "    background-color: var(--disabled-bg-color);\n",
              "    fill: var(--disabled-fill-color);\n",
              "    box-shadow: none;\n",
              "  }\n",
              "\n",
              "  .colab-df-spinner {\n",
              "    border: 2px solid var(--fill-color);\n",
              "    border-color: transparent;\n",
              "    border-bottom-color: var(--fill-color);\n",
              "    animation:\n",
              "      spin 1s steps(1) infinite;\n",
              "  }\n",
              "\n",
              "  @keyframes spin {\n",
              "    0% {\n",
              "      border-color: transparent;\n",
              "      border-bottom-color: var(--fill-color);\n",
              "      border-left-color: var(--fill-color);\n",
              "    }\n",
              "    20% {\n",
              "      border-color: transparent;\n",
              "      border-left-color: var(--fill-color);\n",
              "      border-top-color: var(--fill-color);\n",
              "    }\n",
              "    30% {\n",
              "      border-color: transparent;\n",
              "      border-left-color: var(--fill-color);\n",
              "      border-top-color: var(--fill-color);\n",
              "      border-right-color: var(--fill-color);\n",
              "    }\n",
              "    40% {\n",
              "      border-color: transparent;\n",
              "      border-right-color: var(--fill-color);\n",
              "      border-top-color: var(--fill-color);\n",
              "    }\n",
              "    60% {\n",
              "      border-color: transparent;\n",
              "      border-right-color: var(--fill-color);\n",
              "    }\n",
              "    80% {\n",
              "      border-color: transparent;\n",
              "      border-right-color: var(--fill-color);\n",
              "      border-bottom-color: var(--fill-color);\n",
              "    }\n",
              "    90% {\n",
              "      border-color: transparent;\n",
              "      border-bottom-color: var(--fill-color);\n",
              "    }\n",
              "  }\n",
              "</style>\n",
              "\n",
              "  <script>\n",
              "    async function quickchart(key) {\n",
              "      const quickchartButtonEl =\n",
              "        document.querySelector('#' + key + ' button');\n",
              "      quickchartButtonEl.disabled = true;  // To prevent multiple clicks.\n",
              "      quickchartButtonEl.classList.add('colab-df-spinner');\n",
              "      try {\n",
              "        const charts = await google.colab.kernel.invokeFunction(\n",
              "            'suggestCharts', [key], {});\n",
              "      } catch (error) {\n",
              "        console.error('Error during call to suggestCharts:', error);\n",
              "      }\n",
              "      quickchartButtonEl.classList.remove('colab-df-spinner');\n",
              "      quickchartButtonEl.classList.add('colab-df-quickchart-complete');\n",
              "    }\n",
              "    (() => {\n",
              "      let quickchartButtonEl =\n",
              "        document.querySelector('#df-5184d83d-14ee-42e2-902b-04029ec4b356 button');\n",
              "      quickchartButtonEl.style.display =\n",
              "        google.colab.kernel.accessAllowed ? 'block' : 'none';\n",
              "    })();\n",
              "  </script>\n",
              "</div>\n",
              "\n",
              "    </div>\n",
              "  </div>\n"
            ],
            "application/vnd.google.colaboratory.intrinsic+json": {
              "type": "dataframe",
              "summary": "{\n  \"name\": \"df\",\n  \"rows\": 8,\n  \"fields\": [\n    {\n      \"column\": \"PassengerId\",\n      \"properties\": {\n        \"dtype\": \"number\",\n        \"std\": 320.8159711429856,\n        \"min\": 1.0,\n        \"max\": 891.0,\n        \"num_unique_values\": 6,\n        \"samples\": [\n          891.0,\n          446.0,\n          668.5\n        ],\n        \"semantic_type\": \"\",\n        \"description\": \"\"\n      }\n    },\n    {\n      \"column\": \"Survived\",\n      \"properties\": {\n        \"dtype\": \"number\",\n        \"std\": 314.8713661874558,\n        \"min\": 0.0,\n        \"max\": 891.0,\n        \"num_unique_values\": 5,\n        \"samples\": [\n          0.3838383838383838,\n          1.0,\n          0.4865924542648585\n        ],\n        \"semantic_type\": \"\",\n        \"description\": \"\"\n      }\n    },\n    {\n      \"column\": \"Pclass\",\n      \"properties\": {\n        \"dtype\": \"number\",\n        \"std\": 314.2523437079693,\n        \"min\": 0.8360712409770513,\n        \"max\": 891.0,\n        \"num_unique_values\": 6,\n        \"samples\": [\n          891.0,\n          2.308641975308642,\n          3.0\n        ],\n        \"semantic_type\": \"\",\n        \"description\": \"\"\n      }\n    },\n    {\n      \"column\": \"Age\",\n      \"properties\": {\n        \"dtype\": \"number\",\n        \"std\": 242.9056731818781,\n        \"min\": 0.42,\n        \"max\": 714.0,\n        \"num_unique_values\": 8,\n        \"samples\": [\n          29.69911764705882,\n          28.0,\n          714.0\n        ],\n        \"semantic_type\": \"\",\n        \"description\": \"\"\n      }\n    },\n    {\n      \"column\": \"SibSp\",\n      \"properties\": {\n        \"dtype\": \"number\",\n        \"std\": 314.4908277465442,\n        \"min\": 0.0,\n        \"max\": 891.0,\n        \"num_unique_values\": 6,\n        \"samples\": [\n          891.0,\n          0.5230078563411896,\n          8.0\n        ],\n        \"semantic_type\": \"\",\n        \"description\": \"\"\n      }\n    },\n    {\n      \"column\": \"Parch\",\n      \"properties\": {\n        \"dtype\": \"number\",\n        \"std\": 314.65971717879,\n        \"min\": 0.0,\n        \"max\": 891.0,\n        \"num_unique_values\": 5,\n        \"samples\": [\n          0.38159371492704824,\n          6.0,\n          0.8060572211299559\n        ],\n        \"semantic_type\": \"\",\n        \"description\": \"\"\n      }\n    },\n    {\n      \"column\": \"Fare\",\n      \"properties\": {\n        \"dtype\": \"number\",\n        \"std\": 330.6256632228577,\n        \"min\": 0.0,\n        \"max\": 891.0,\n        \"num_unique_values\": 8,\n        \"samples\": [\n          32.204207968574636,\n          14.4542,\n          891.0\n        ],\n        \"semantic_type\": \"\",\n        \"description\": \"\"\n      }\n    }\n  ]\n}"
            }
          },
          "metadata": {},
          "execution_count": 9
        }
      ],
      "source": [
        "import pandas as pd\n",
        "df = pd.read_csv('titanic_train.csv')\n",
        "df.head()\n",
        "df.info()\n",
        "df.describe()\n"
      ]
    },
    {
      "cell_type": "markdown",
      "id": "aeb4460b",
      "metadata": {
        "id": "aeb4460b"
      },
      "source": [
        "### ❓ Preguntas:\n",
        "- ¿Cuántas observaciones y columnas tiene el dataset?\n",
        "- ¿Cuál es la variable que queremos predecir?\n",
        "- ¿Qué tipos de variables tenemos?"
      ]
    },
    {
      "cell_type": "code",
      "source": [
        "print(f\"El dataset tiene {df.shape[0]} observaciones y {df.shape[1]} columnas.\")\n",
        "\n",
        "print(\"La variable a predecir es 'Survived'.\")\n",
        "\n",
        "print(\"Tipos de variables:\")\n",
        "df.dtypes\n"
      ],
      "metadata": {
        "id": "DhGsKQmDbAgp",
        "outputId": "6ccefd03-0911-4b96-e0c5-6862f3d5c4a9",
        "colab": {
          "base_uri": "https://localhost:8080/",
          "height": 512
        }
      },
      "id": "DhGsKQmDbAgp",
      "execution_count": 10,
      "outputs": [
        {
          "output_type": "stream",
          "name": "stdout",
          "text": [
            "El dataset tiene 891 observaciones y 12 columnas.\n",
            "La variable a predecir es 'Survived'.\n",
            "Tipos de variables:\n"
          ]
        },
        {
          "output_type": "execute_result",
          "data": {
            "text/plain": [
              "PassengerId      int64\n",
              "Survived         int64\n",
              "Pclass           int64\n",
              "Name            object\n",
              "Sex             object\n",
              "Age            float64\n",
              "SibSp            int64\n",
              "Parch            int64\n",
              "Ticket          object\n",
              "Fare           float64\n",
              "Cabin           object\n",
              "Embarked        object\n",
              "dtype: object"
            ],
            "text/html": [
              "<div>\n",
              "<style scoped>\n",
              "    .dataframe tbody tr th:only-of-type {\n",
              "        vertical-align: middle;\n",
              "    }\n",
              "\n",
              "    .dataframe tbody tr th {\n",
              "        vertical-align: top;\n",
              "    }\n",
              "\n",
              "    .dataframe thead th {\n",
              "        text-align: right;\n",
              "    }\n",
              "</style>\n",
              "<table border=\"1\" class=\"dataframe\">\n",
              "  <thead>\n",
              "    <tr style=\"text-align: right;\">\n",
              "      <th></th>\n",
              "      <th>0</th>\n",
              "    </tr>\n",
              "  </thead>\n",
              "  <tbody>\n",
              "    <tr>\n",
              "      <th>PassengerId</th>\n",
              "      <td>int64</td>\n",
              "    </tr>\n",
              "    <tr>\n",
              "      <th>Survived</th>\n",
              "      <td>int64</td>\n",
              "    </tr>\n",
              "    <tr>\n",
              "      <th>Pclass</th>\n",
              "      <td>int64</td>\n",
              "    </tr>\n",
              "    <tr>\n",
              "      <th>Name</th>\n",
              "      <td>object</td>\n",
              "    </tr>\n",
              "    <tr>\n",
              "      <th>Sex</th>\n",
              "      <td>object</td>\n",
              "    </tr>\n",
              "    <tr>\n",
              "      <th>Age</th>\n",
              "      <td>float64</td>\n",
              "    </tr>\n",
              "    <tr>\n",
              "      <th>SibSp</th>\n",
              "      <td>int64</td>\n",
              "    </tr>\n",
              "    <tr>\n",
              "      <th>Parch</th>\n",
              "      <td>int64</td>\n",
              "    </tr>\n",
              "    <tr>\n",
              "      <th>Ticket</th>\n",
              "      <td>object</td>\n",
              "    </tr>\n",
              "    <tr>\n",
              "      <th>Fare</th>\n",
              "      <td>float64</td>\n",
              "    </tr>\n",
              "    <tr>\n",
              "      <th>Cabin</th>\n",
              "      <td>object</td>\n",
              "    </tr>\n",
              "    <tr>\n",
              "      <th>Embarked</th>\n",
              "      <td>object</td>\n",
              "    </tr>\n",
              "  </tbody>\n",
              "</table>\n",
              "</div><br><label><b>dtype:</b> object</label>"
            ]
          },
          "metadata": {},
          "execution_count": 10
        }
      ]
    },
    {
      "cell_type": "markdown",
      "id": "1fbc308a",
      "metadata": {
        "id": "1fbc308a"
      },
      "source": [
        "## 🛠️ 2. Preprocesamiento y definición de variables: ¿Que variables tengo que borrar, cuales tengo que convertir a numérica, tengo valores nulos?"
      ]
    },
    {
      "cell_type": "code",
      "source": [
        "print(df.isnull().sum())\n",
        "df = df.drop(['PassengerId', 'Name', 'Ticket', 'Cabin'], axis=1)\n",
        "df = pd.get_dummies(df, columns=['Sex', 'Embarked'], drop_first=True)\n",
        "df['Age'].fillna(df['Age'].median(), inplace=True)\n",
        "print(df.head())\n",
        "print(df.info())\n"
      ],
      "metadata": {
        "id": "dO52YBGx5Rph",
        "outputId": "0065a9d0-653e-4822-b9d9-ad3f85791400",
        "colab": {
          "base_uri": "https://localhost:8080/"
        }
      },
      "id": "dO52YBGx5Rph",
      "execution_count": 11,
      "outputs": [
        {
          "output_type": "stream",
          "name": "stdout",
          "text": [
            "PassengerId      0\n",
            "Survived         0\n",
            "Pclass           0\n",
            "Name             0\n",
            "Sex              0\n",
            "Age            177\n",
            "SibSp            0\n",
            "Parch            0\n",
            "Ticket           0\n",
            "Fare             0\n",
            "Cabin          687\n",
            "Embarked         2\n",
            "dtype: int64\n",
            "   Survived  Pclass   Age  SibSp  Parch     Fare  Sex_male  Embarked_Q  \\\n",
            "0         0       3  22.0      1      0   7.2500      True       False   \n",
            "1         1       1  38.0      1      0  71.2833     False       False   \n",
            "2         1       3  26.0      0      0   7.9250     False       False   \n",
            "3         1       1  35.0      1      0  53.1000     False       False   \n",
            "4         0       3  35.0      0      0   8.0500      True       False   \n",
            "\n",
            "   Embarked_S  \n",
            "0        True  \n",
            "1       False  \n",
            "2        True  \n",
            "3        True  \n",
            "4        True  \n",
            "<class 'pandas.core.frame.DataFrame'>\n",
            "RangeIndex: 891 entries, 0 to 890\n",
            "Data columns (total 9 columns):\n",
            " #   Column      Non-Null Count  Dtype  \n",
            "---  ------      --------------  -----  \n",
            " 0   Survived    891 non-null    int64  \n",
            " 1   Pclass      891 non-null    int64  \n",
            " 2   Age         891 non-null    float64\n",
            " 3   SibSp       891 non-null    int64  \n",
            " 4   Parch       891 non-null    int64  \n",
            " 5   Fare        891 non-null    float64\n",
            " 6   Sex_male    891 non-null    bool   \n",
            " 7   Embarked_Q  891 non-null    bool   \n",
            " 8   Embarked_S  891 non-null    bool   \n",
            "dtypes: bool(3), float64(2), int64(4)\n",
            "memory usage: 44.5 KB\n",
            "None\n"
          ]
        },
        {
          "output_type": "stream",
          "name": "stderr",
          "text": [
            "<ipython-input-11-1108445aa174>:4: FutureWarning: A value is trying to be set on a copy of a DataFrame or Series through chained assignment using an inplace method.\n",
            "The behavior will change in pandas 3.0. This inplace method will never work because the intermediate object on which we are setting values always behaves as a copy.\n",
            "\n",
            "For example, when doing 'df[col].method(value, inplace=True)', try using 'df.method({col: value}, inplace=True)' or df[col] = df[col].method(value) instead, to perform the operation inplace on the original object.\n",
            "\n",
            "\n",
            "  df['Age'].fillna(df['Age'].median(), inplace=True)\n"
          ]
        }
      ]
    },
    {
      "cell_type": "markdown",
      "id": "e447859e",
      "metadata": {
        "id": "e447859e"
      },
      "source": [
        "### ❓ Pregunta:\n",
        "- ¿Está balanceada la variable objetivo?"
      ]
    },
    {
      "cell_type": "code",
      "source": [
        "print(df['Survived'].value_counts(normalize=True))\n"
      ],
      "metadata": {
        "id": "Jb1vA3JMbzyp",
        "outputId": "8259a1df-380a-459f-9b41-17c079daa126",
        "colab": {
          "base_uri": "https://localhost:8080/"
        }
      },
      "id": "Jb1vA3JMbzyp",
      "execution_count": 12,
      "outputs": [
        {
          "output_type": "stream",
          "name": "stdout",
          "text": [
            "Survived\n",
            "0    0.616162\n",
            "1    0.383838\n",
            "Name: proportion, dtype: float64\n"
          ]
        }
      ]
    },
    {
      "cell_type": "markdown",
      "id": "84d509c5",
      "metadata": {
        "id": "84d509c5"
      },
      "source": [
        "## ✂️ 3. División del dataset"
      ]
    },
    {
      "cell_type": "code",
      "source": [
        "from sklearn.model_selection import train_test_split\n",
        "# Separar características (X) y variable objetivo (y)\n",
        "X = df.drop('Survived', axis=1)\n",
        "y = df['Survived']\n",
        "\n",
        "# Dividir el dataset en conjuntos de entrenamiento y prueba\n",
        "X_train, X_test, y_train, y_test = train_test_split(X, y, test_size=0.2, random_state=42)\n",
        "\n",
        "print(f\"X_train shape: {X_train.shape}\")\n",
        "print(f\"y_train shape: {y_train.shape}\")\n",
        "print(f\"X_test shape: {X_test.shape}\")\n",
        "print(f\"y_test shape: {y_test.shape}\")"
      ],
      "metadata": {
        "id": "uv0nDsRbb7Hp",
        "outputId": "52db3052-e591-4e93-b24e-048128a45d1d",
        "colab": {
          "base_uri": "https://localhost:8080/"
        }
      },
      "id": "uv0nDsRbb7Hp",
      "execution_count": 13,
      "outputs": [
        {
          "output_type": "stream",
          "name": "stdout",
          "text": [
            "X_train shape: (712, 8)\n",
            "y_train shape: (712,)\n",
            "X_test shape: (179, 8)\n",
            "y_test shape: (179,)\n"
          ]
        }
      ]
    },
    {
      "cell_type": "markdown",
      "id": "cc616daa",
      "metadata": {
        "id": "cc616daa"
      },
      "source": [
        "## 🌳 4. Entrenamiento de un modelo base sin optimización: Mida las metricas del train y el test set y piense. ¿Hay evidencia de Overfiting?"
      ]
    },
    {
      "cell_type": "code",
      "source": [
        "from sklearn.tree import DecisionTreeClassifier\n",
        "from sklearn.metrics import accuracy_score, classification_report\n",
        "\n",
        "# Inicializar el modelo de árbol de decisión\n",
        "tree_model = DecisionTreeClassifier(random_state=42)\n",
        "\n",
        "# Entrenar el modelo con el conjunto de entrenamiento\n",
        "tree_model.fit(X_train, y_train)\n",
        "\n",
        "# Predecir sobre el conjunto de entrenamiento y prueba\n",
        "y_train_pred = tree_model.predict(X_train)\n",
        "y_test_pred = tree_model.predict(X_test)\n",
        "\n",
        "# Evaluar el modelo\n",
        "train_accuracy = accuracy_score(y_train, y_train_pred)\n",
        "test_accuracy = accuracy_score(y_test, y_test_pred)\n",
        "\n",
        "print(f\"Precisión en el conjunto de entrenamiento: {train_accuracy}\")\n",
        "print(f\"Precisión en el conjunto de prueba: {test_accuracy}\")\n",
        "\n",
        "print(\"\\nInforme de clasificación para el conjunto de entrenamiento:\")\n",
        "print(classification_report(y_train, y_train_pred))\n",
        "\n",
        "print(\"\\nInforme de clasificación para el conjunto de prueba:\")\n",
        "print(classification_report(y_test, y_test_pred))\n"
      ],
      "metadata": {
        "id": "XobCeA1L51ct",
        "outputId": "5659b45b-6a7d-4fbd-c905-b5be381bc86b",
        "colab": {
          "base_uri": "https://localhost:8080/"
        }
      },
      "id": "XobCeA1L51ct",
      "execution_count": 14,
      "outputs": [
        {
          "output_type": "stream",
          "name": "stdout",
          "text": [
            "Precisión en el conjunto de entrenamiento: 0.9789325842696629\n",
            "Precisión en el conjunto de prueba: 0.7821229050279329\n",
            "\n",
            "Informe de clasificación para el conjunto de entrenamiento:\n",
            "              precision    recall  f1-score   support\n",
            "\n",
            "           0       0.97      1.00      0.98       444\n",
            "           1       1.00      0.95      0.97       268\n",
            "\n",
            "    accuracy                           0.98       712\n",
            "   macro avg       0.98      0.97      0.98       712\n",
            "weighted avg       0.98      0.98      0.98       712\n",
            "\n",
            "\n",
            "Informe de clasificación para el conjunto de prueba:\n",
            "              precision    recall  f1-score   support\n",
            "\n",
            "           0       0.82      0.80      0.81       105\n",
            "           1       0.73      0.76      0.74        74\n",
            "\n",
            "    accuracy                           0.78       179\n",
            "   macro avg       0.78      0.78      0.78       179\n",
            "weighted avg       0.78      0.78      0.78       179\n",
            "\n"
          ]
        }
      ]
    },
    {
      "cell_type": "code",
      "source": [
        "# Análisis de Overfitting\n",
        "if train_accuracy > test_accuracy and (train_accuracy-test_accuracy) > 0.1 :\n",
        "    print(\"\\nHay evidencia de Overfitting. El modelo se desempeña mucho mejor en los datos de entrenamiento que en los de prueba.\")\n",
        "elif train_accuracy > test_accuracy:\n",
        "    print(\"\\nHay una ligera evidencia de Overfitting. El modelo se desempeña mejor en los datos de entrenamiento que en los de prueba, pero la diferencia no es significativa.\")\n",
        "elif train_accuracy == test_accuracy:\n",
        "    print(\"\\nEl modelo generaliza bien, no se observa Overfitting\")\n",
        "else:\n",
        "    print(\"\\nEl modelo se desempeña mejor en los datos de prueba que en los de entrenamiento. Esto es inusual, pero podría indicar que el conjunto de prueba es representativo o que hay algo mal en la división de datos.\")"
      ],
      "metadata": {
        "id": "lSal5j1m5o0D",
        "outputId": "7235df86-422e-4d76-a9fc-239c07f61b39",
        "colab": {
          "base_uri": "https://localhost:8080/"
        }
      },
      "id": "lSal5j1m5o0D",
      "execution_count": 15,
      "outputs": [
        {
          "output_type": "stream",
          "name": "stdout",
          "text": [
            "\n",
            "Hay evidencia de Overfitting. El modelo se desempeña mucho mejor en los datos de entrenamiento que en los de prueba.\n"
          ]
        }
      ]
    },
    {
      "cell_type": "markdown",
      "id": "a7494914",
      "metadata": {
        "id": "a7494914"
      },
      "source": [
        "### ❓ Pregunta:\n",
        "- ¿Qué tan bien predice el modelo base?\n",
        "- ¿Existen diferencias entre precisión y recall?"
      ]
    },
    {
      "cell_type": "markdown",
      "source": [
        "Análisis de desempeño del modelo base:\n",
        "El modelo base, un árbol de decisión sin optimización, muestra una precisión en el conjunto de entrenamiento cercana al 100%, mientras que en el conjunto de prueba disminuye considerablemente, sugiriendo un posible sobreajuste. Para tener una perspectiva mas amplia, se analizaron las métricas de precisión y recall para ambas clases sobrevivientes y no sobrevivientes\n",
        "\n",
        "Diferencias entre precisión y recall:\n",
        "La precisión mide la proporción de predicciones correctas entre las instancias predichas como positivas. El recall, por otro lado, mide la proporción de predicciones correctas entre las instancias realmente positivas.\n",
        "Observamos que la precisión y el recall para la clase mayoritaria no sobrevivientes son generalmente altas, pero para la clase minoritaria sobrevivientes puede haber diferencias significativas. Esto indica que el modelo podría estar prediciendo mejor los casos negativos que los positivos.\"\n",
        "Estas discrepancias en precisión y recall resaltan la importancia de analizar ambas métricas, en lugar de confiar únicamente en la precisión, para una evaluación completa del desempeño del modelo.\n"
      ],
      "metadata": {
        "id": "5IpfA4hkcXNh"
      },
      "id": "5IpfA4hkcXNh"
    },
    {
      "cell_type": "markdown",
      "id": "e7cf5fa0",
      "metadata": {
        "id": "e7cf5fa0"
      },
      "source": [
        "## 🔁 5. Evaluación con validación cruzada"
      ]
    },
    {
      "cell_type": "code",
      "source": [
        "import pandas as pd\n",
        "from sklearn.model_selection import train_test_split, cross_val_score, KFold\n",
        "from sklearn.tree import DecisionTreeClassifier\n",
        "from sklearn.metrics import accuracy_score, classification_report\n",
        "\n",
        "# Realizar validación cruzada\n",
        "kf = KFold(n_splits=5, shuffle=True, random_state=42)\n",
        "cv_scores = cross_val_score(tree_model, X, y, cv=kf, scoring='accuracy')\n",
        "\n",
        "print(f\"Puntuaciones de validación cruzada: {cv_scores}\")\n",
        "print(f\"Precisión media de la validación cruzada: {cv_scores.mean()}\")\n",
        "\n",
        "\n",
        "cv_precision = cross_val_score(tree_model, X, y, cv=kf, scoring='precision')\n",
        "cv_recall = cross_val_score(tree_model, X, y, cv=kf, scoring='recall')\n",
        "\n",
        "print(f\"Precisión media de la validación cruzada: {cv_precision.mean()}\")\n",
        "print(f\"Recall media de la validación cruzada: {cv_recall.mean()}\")\n"
      ],
      "metadata": {
        "id": "aI-taeawcsDS",
        "outputId": "d8db4e08-00bb-4b47-dce3-21299131153f",
        "colab": {
          "base_uri": "https://localhost:8080/"
        }
      },
      "id": "aI-taeawcsDS",
      "execution_count": 16,
      "outputs": [
        {
          "output_type": "stream",
          "name": "stdout",
          "text": [
            "Puntuaciones de validación cruzada: [0.78212291 0.76404494 0.80898876 0.75280899 0.7752809 ]\n",
            "Precisión media de la validación cruzada: 0.7766493001067102\n",
            "Precisión media de la validación cruzada: 0.7048172469707789\n",
            "Recall media de la validación cruzada: 0.7148943754913903\n"
          ]
        }
      ]
    },
    {
      "cell_type": "markdown",
      "id": "787ff956",
      "metadata": {
        "id": "787ff956"
      },
      "source": [
        "## 🔧 6. Optimización con GridSearchCV"
      ]
    },
    {
      "cell_type": "code",
      "source": [
        "from sklearn.model_selection import GridSearchCV\n",
        "\n",
        "# Definir los hiperparámetros a probar\n",
        "param_grid = {\n",
        "    'criterion': ['gini', 'entropy'],\n",
        "    'max_depth': [None, 5, 10, 15],\n",
        "    'min_samples_split': [2, 5, 10],\n",
        "    'min_samples_leaf': [1, 2, 4]\n",
        "}\n",
        "\n",
        "# Inicializar GridSearchCV\n",
        "grid_search = GridSearchCV(estimator=DecisionTreeClassifier(random_state=42),\n",
        "                           param_grid=param_grid,\n",
        "                           scoring='accuracy',\n",
        "                           cv=5,\n",
        "                           n_jobs=-1) #n_jobs=-1 para usar todos los procesadores\n",
        "\n",
        "# Entrenar GridSearchCV\n",
        "grid_search.fit(X_train, y_train)\n",
        "\n",
        "# Imprimir los mejores hiperparámetros\n",
        "print(\"Mejores hiperparámetros:\", grid_search.best_params_)\n",
        "print(\"Mejor precisión:\", grid_search.best_score_)\n",
        "\n",
        "# Evaluar el modelo optimizado\n",
        "best_tree_model = grid_search.best_estimator_\n",
        "y_test_pred_opt = best_tree_model.predict(X_test)\n",
        "test_accuracy_opt = accuracy_score(y_test, y_test_pred_opt)\n",
        "print(f\"Precisión en el conjunto de prueba con el modelo optimizado: {test_accuracy_opt}\")\n",
        "print(classification_report(y_test, y_test_pred_opt))"
      ],
      "metadata": {
        "id": "tnQfD0AsdHby",
        "outputId": "c597148e-f9fd-4659-f2d9-9c19c71988fe",
        "colab": {
          "base_uri": "https://localhost:8080/"
        }
      },
      "id": "tnQfD0AsdHby",
      "execution_count": 17,
      "outputs": [
        {
          "output_type": "stream",
          "name": "stdout",
          "text": [
            "Mejores hiperparámetros: {'criterion': 'entropy', 'max_depth': 5, 'min_samples_leaf': 2, 'min_samples_split': 10}\n",
            "Mejor precisión: 0.8159854230276766\n",
            "Precisión en el conjunto de prueba con el modelo optimizado: 0.8044692737430168\n",
            "              precision    recall  f1-score   support\n",
            "\n",
            "           0       0.79      0.90      0.84       105\n",
            "           1       0.83      0.66      0.74        74\n",
            "\n",
            "    accuracy                           0.80       179\n",
            "   macro avg       0.81      0.78      0.79       179\n",
            "weighted avg       0.81      0.80      0.80       179\n",
            "\n"
          ]
        }
      ]
    },
    {
      "cell_type": "markdown",
      "id": "cd2fba27",
      "metadata": {
        "id": "cd2fba27"
      },
      "source": [
        "## ✅ 7. Evaluación del mejor modelo: Cuales son las metricas y la matriz de confusion de este modelo"
      ]
    },
    {
      "cell_type": "code",
      "source": [
        "from sklearn.metrics import confusion_matrix\n",
        "import seaborn as sns\n",
        "import matplotlib.pyplot as plt\n",
        "\n",
        "# Evaluación del mejor modelo\n",
        "best_tree_model = grid_search.best_estimator_\n",
        "y_test_pred_opt = best_tree_model.predict(X_test)\n",
        "\n",
        "# Matriz de confusión\n",
        "cm = confusion_matrix(y_test, y_test_pred_opt)\n",
        "\n",
        "print(\"Matriz de Confusión:\")\n",
        "print(cm)\n",
        "\n",
        "# Visualización de la matriz de confusión\n",
        "plt.figure(figsize=(8, 6))\n",
        "sns.heatmap(cm, annot=True, fmt=\"d\", cmap=\"Blues\",\n",
        "            xticklabels=['No sobrevivió', 'Sobrevivió'],\n",
        "            yticklabels=['No sobrevivió', 'Sobrevivió'])\n",
        "plt.xlabel(\"Predicción\")\n",
        "plt.ylabel(\"Real\")\n",
        "plt.title(\"Matriz de Confusión\")\n",
        "plt.show()\n",
        "\n",
        "print(classification_report(y_test, y_test_pred_opt))"
      ],
      "metadata": {
        "id": "3X1Okk9mdZCR",
        "outputId": "612e0b4c-7247-4f68-a554-8b55b56e009c",
        "colab": {
          "base_uri": "https://localhost:8080/",
          "height": 772
        }
      },
      "id": "3X1Okk9mdZCR",
      "execution_count": 18,
      "outputs": [
        {
          "output_type": "stream",
          "name": "stdout",
          "text": [
            "Matriz de Confusión:\n",
            "[[95 10]\n",
            " [25 49]]\n"
          ]
        },
        {
          "output_type": "display_data",
          "data": {
            "text/plain": [
              "<Figure size 800x600 with 2 Axes>"
            ],
            "image/png": "[encoded data removed]"
          },
          "metadata": {}
        },
        {
          "output_type": "stream",
          "name": "stdout",
          "text": [
            "              precision    recall  f1-score   support\n",
            "\n",
            "           0       0.79      0.90      0.84       105\n",
            "           1       0.83      0.66      0.74        74\n",
            "\n",
            "    accuracy                           0.80       179\n",
            "   macro avg       0.81      0.78      0.79       179\n",
            "weighted avg       0.81      0.80      0.80       179\n",
            "\n"
          ]
        }
      ]
    },
    {
      "cell_type": "markdown",
      "id": "3d8820f7",
      "metadata": {
        "id": "3d8820f7"
      },
      "source": [
        "## 📈 8. Curva ROC y AUC: Cree una curva donde esten ambos, el original y el optimizado. Mejoró la estimación?"
      ]
    },
    {
      "cell_type": "code",
      "source": [
        "from sklearn.metrics import roc_curve, auc\n",
        "\n",
        "# Obtener las probabilidades de predicción para el modelo original y el optimizado\n",
        "y_test_prob_original = tree_model.predict_proba(X_test)[:, 1]\n",
        "y_test_prob_optimizado = best_tree_model.predict_proba(X_test)[:, 1]\n",
        "\n",
        "# Calcular la curva ROC y el AUC para el modelo original\n",
        "fpr_original, tpr_original, thresholds_original = roc_curve(y_test, y_test_prob_original)\n",
        "roc_auc_original = auc(fpr_original, tpr_original)\n",
        "\n",
        "# Calcular la curva ROC y el AUC para el modelo optimizado\n",
        "fpr_optimizado, tpr_optimizado, thresholds_optimizado = roc_curve(y_test, y_test_prob_optimizado)\n",
        "roc_auc_optimizado = auc(fpr_optimizado, tpr_optimizado)\n",
        "\n",
        "# Graficar las curvas ROC\n",
        "plt.figure(figsize=(8, 6))\n",
        "plt.plot(fpr_original, tpr_original, color='blue', lw=2, label=f'Modelo Original (AUC = {roc_auc_original:.2f})')\n",
        "plt.plot(fpr_optimizado, tpr_optimizado, color='red', lw=2, label=f'Modelo Optimizado (AUC = {roc_auc_optimizado:.2f})')\n",
        "plt.plot([0, 1], [0, 1], color='gray', lw=1, linestyle='--')\n",
        "plt.xlabel('Tasa de Falsos Positivos')\n",
        "plt.ylabel('Tasa de Verdaderos Positivos')\n",
        "plt.title('Curva ROC')\n",
        "plt.legend(loc=\"lower right\")\n",
        "plt.show()\n",
        "\n",
        "# Comparar el AUC\n",
        "if roc_auc_optimizado > roc_auc_original:\n",
        "    print(\"El modelo optimizado mejoró la estimación, AUC mayor.\")\n",
        "elif roc_auc_optimizado < roc_auc_original:\n",
        "    print(\"El modelo optimizado empeoró la estimación, AUC menor.\")\n",
        "else:\n",
        "    print(\"El modelo optimizado no tuvo impacto en la estimación\")"
      ],
      "metadata": {
        "id": "bOP1SsyvdmDx",
        "outputId": "c72c1603-59b6-4efb-d28d-b6df638498c3",
        "colab": {
          "base_uri": "https://localhost:8080/",
          "height": 581
        }
      },
      "id": "bOP1SsyvdmDx",
      "execution_count": 19,
      "outputs": [
        {
          "output_type": "display_data",
          "data": {
            "text/plain": [
              "<Figure size 800x600 with 1 Axes>"
            ],
            "image/png": "[encoded data removed]"
          },
          "metadata": {}
        },
        {
          "output_type": "stream",
          "name": "stdout",
          "text": [
            "El modelo optimizado mejoró la estimación, AUC mayor.\n"
          ]
        }
      ]
    },
    {
      "cell_type": "markdown",
      "id": "599a6a32",
      "metadata": {
        "id": "599a6a32"
      },
      "source": [
        "## 💬 Reflexión final"
      ]
    },
    {
      "cell_type": "markdown",
      "id": "2e4a4b66",
      "metadata": {
        "id": "2e4a4b66"
      },
      "source": [
        "### ❓ Preguntas:\n",
        "- ¿Qué combinación de hiperparámetros funcionó mejor?\n",
        "- ¿Cuál fue la diferencia entre el modelo base y el optimizado?\n",
        "- ¿Qué nos dice el área bajo la curva ROC sobre nuestro modelo?"
      ]
    },
    {
      "cell_type": "code",
      "source": [
        "print(\"Mejores hiperparámetros:\", grid_search.best_params_)\n",
        "print(f\"Precisión del modelo base: {test_accuracy}\")\n",
        "print(f\"Precisión del modelo optimizado: {test_accuracy_opt}\")\n",
        "print(\"Diferencia de precisión entre modelo base y optimizado:\", test_accuracy_opt - test_accuracy)\n",
        "\n",
        "if roc_auc_optimizado > roc_auc_original:\n",
        "    print(\"El modelo optimizado tiene un mejor poder de discriminación (AUC mayor).\")\n",
        "elif roc_auc_optimizado < roc_auc_original:\n",
        "    print(\"El modelo optimizado tiene un peor poder de discriminación (AUC menor).\")\n",
        "else:\n",
        "    print(\"Ambos modelos tienen el mismo poder de discriminación.\")\n"
      ],
      "metadata": {
        "id": "yqsnwcDKdz1B",
        "outputId": "4f26c680-23a1-42e2-90ee-e2dac25f34b4",
        "colab": {
          "base_uri": "https://localhost:8080/"
        }
      },
      "id": "yqsnwcDKdz1B",
      "execution_count": 20,
      "outputs": [
        {
          "output_type": "stream",
          "name": "stdout",
          "text": [
            "Mejores hiperparámetros: {'criterion': 'entropy', 'max_depth': 5, 'min_samples_leaf': 2, 'min_samples_split': 10}\n",
            "Precisión del modelo base: 0.7821229050279329\n",
            "Precisión del modelo optimizado: 0.8044692737430168\n",
            "Diferencia de precisión entre modelo base y optimizado: 0.022346368715083886\n",
            "El modelo optimizado tiene un mejor poder de discriminación (AUC mayor).\n"
          ]
        }
      ]
    }
  ],
  "metadata": {
    "colab": {
      "provenance": []
    },
    "language_info": {
      "name": "python"
    },
    "kernelspec": {
      "name": "python3",
      "display_name": "Python 3"
    }
  },
  "nbformat": 4,
  "nbformat_minor": 5
}