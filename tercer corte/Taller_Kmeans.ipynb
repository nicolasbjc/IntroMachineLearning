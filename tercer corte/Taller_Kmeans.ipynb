{
  "nbformat": 4,
  "nbformat_minor": 0,
  "metadata": {
    "colab": {
      "provenance": []
    },
    "kernelspec": {
      "name": "python3",
      "display_name": "Python 3"
    },
    "language_info": {
      "name": "python"
    }
  },
  "cells": [
    {
      "cell_type": "markdown",
      "source": [
        "Taller de Segmentación de Clientes con K-means en Python\n",
        "Objetivo:\n",
        "Aprender a realizar la segmentación de clientes utilizando el algoritmo K-means en Python. Este taller te guiará en los pasos para cargar los datos, procesarlos, aplicar el modelo de clustering, y finalmente interpretar los resultados para obtener grupos de clientes con características similares."
      ],
      "metadata": {
        "id": "2eVgbP6LglrG"
      }
    },
    {
      "cell_type": "code",
      "execution_count": 1,
      "metadata": {
        "colab": {
          "base_uri": "https://localhost:8080/"
        },
        "id": "BqsKqANLbKE7",
        "outputId": "9743a53a-d55b-43ac-dc78-854a2d1b260d"
      },
      "outputs": [
        {
          "output_type": "stream",
          "name": "stdout",
          "text": [
            "--2025-05-07 21:42:05--  https://github.com/javierherrera1996/lecture_analytics/raw/refs/heads/main/Mall_Customers.csv\n",
            "Resolving github.com (github.com)... 140.82.114.3\n",
            "Connecting to github.com (github.com)|140.82.114.3|:443... connected.\n",
            "HTTP request sent, awaiting response... 302 Found\n",
            "Location: https://raw.githubusercontent.com/javierherrera1996/lecture_analytics/refs/heads/main/Mall_Customers.csv [following]\n",
            "--2025-05-07 21:42:05--  https://raw.githubusercontent.com/javierherrera1996/lecture_analytics/refs/heads/main/Mall_Customers.csv\n",
            "Resolving raw.githubusercontent.com (raw.githubusercontent.com)... 185.199.111.133, 185.199.110.133, 185.199.108.133, ...\n",
            "Connecting to raw.githubusercontent.com (raw.githubusercontent.com)|185.199.111.133|:443... connected.\n",
            "HTTP request sent, awaiting response... 200 OK\n",
            "Length: 3981 (3.9K) [text/plain]\n",
            "Saving to: ‘Mall_Customers.csv’\n",
            "\n",
            "Mall_Customers.csv  100%[===================>]   3.89K  --.-KB/s    in 0s      \n",
            "\n",
            "2025-05-07 21:42:06 (45.7 MB/s) - ‘Mall_Customers.csv’ saved [3981/3981]\n",
            "\n"
          ]
        }
      ],
      "source": [
        "!wget https://github.com/javierherrera1996/lecture_analytics/raw/refs/heads/main/Mall_Customers.csv"
      ]
    },
    {
      "cell_type": "code",
      "source": [
        "import pandas as pd\n",
        "import numpy as np\n",
        "import matplotlib.pyplot as plt\n",
        "from sklearn.cluster import KMeans\n",
        "from sklearn.preprocessing import StandardScaler\n",
        "data = pd.read_csv('Mall_Customers.csv')"
      ],
      "metadata": {
        "id": "4NXRM_y_JSod"
      },
      "execution_count": 2,
      "outputs": []
    },
    {
      "cell_type": "code",
      "source": [
        "data.head()"
      ],
      "metadata": {
        "id": "Nvs_UqydJXAx",
        "outputId": "acf28279-1106-40fa-91c6-a12826268231",
        "colab": {
          "base_uri": "https://localhost:8080/",
          "height": 206
        }
      },
      "execution_count": 3,
      "outputs": [
        {
          "output_type": "execute_result",
          "data": {
            "text/plain": [
              "   CustomerID  Gender  Age  Annual Income (k$)  Spending Score (1-100)\n",
              "0           1    Male   19                  15                      39\n",
              "1           2    Male   21                  15                      81\n",
              "2           3  Female   20                  16                       6\n",
              "3           4  Female   23                  16                      77\n",
              "4           5  Female   31                  17                      40"
            ],
            "text/html": [
              "\n",
              "  <div id=\"df-2294ff45-648d-4c70-b3ae-a87876838be8\" class=\"colab-df-container\">\n",
              "    <div>\n",
              "<style scoped>\n",
              "    .dataframe tbody tr th:only-of-type {\n",
              "        vertical-align: middle;\n",
              "    }\n",
              "\n",
              "    .dataframe tbody tr th {\n",
              "        vertical-align: top;\n",
              "    }\n",
              "\n",
              "    .dataframe thead th {\n",
              "        text-align: right;\n",
              "    }\n",
              "</style>\n",
              "<table border=\"1\" class=\"dataframe\">\n",
              "  <thead>\n",
              "    <tr style=\"text-align: right;\">\n",
              "      <th></th>\n",
              "      <th>CustomerID</th>\n",
              "      <th>Gender</th>\n",
              "      <th>Age</th>\n",
              "      <th>Annual Income (k$)</th>\n",
              "      <th>Spending Score (1-100)</th>\n",
              "    </tr>\n",
              "  </thead>\n",
              "  <tbody>\n",
              "    <tr>\n",
              "      <th>0</th>\n",
              "      <td>1</td>\n",
              "      <td>Male</td>\n",
              "      <td>19</td>\n",
              "      <td>15</td>\n",
              "      <td>39</td>\n",
              "    </tr>\n",
              "    <tr>\n",
              "      <th>1</th>\n",
              "      <td>2</td>\n",
              "      <td>Male</td>\n",
              "      <td>21</td>\n",
              "      <td>15</td>\n",
              "      <td>81</td>\n",
              "    </tr>\n",
              "    <tr>\n",
              "      <th>2</th>\n",
              "      <td>3</td>\n",
              "      <td>Female</td>\n",
              "      <td>20</td>\n",
              "      <td>16</td>\n",
              "      <td>6</td>\n",
              "    </tr>\n",
              "    <tr>\n",
              "      <th>3</th>\n",
              "      <td>4</td>\n",
              "      <td>Female</td>\n",
              "      <td>23</td>\n",
              "      <td>16</td>\n",
              "      <td>77</td>\n",
              "    </tr>\n",
              "    <tr>\n",
              "      <th>4</th>\n",
              "      <td>5</td>\n",
              "      <td>Female</td>\n",
              "      <td>31</td>\n",
              "      <td>17</td>\n",
              "      <td>40</td>\n",
              "    </tr>\n",
              "  </tbody>\n",
              "</table>\n",
              "</div>\n",
              "    <div class=\"colab-df-buttons\">\n",
              "\n",
              "  <div class=\"colab-df-container\">\n",
              "    <button class=\"colab-df-convert\" onclick=\"convertToInteractive('df-2294ff45-648d-4c70-b3ae-a87876838be8')\"\n",
              "            title=\"Convert this dataframe to an interactive table.\"\n",
              "            style=\"display:none;\">\n",
              "\n",
              "  <svg xmlns=\"http://www.w3.org/2000/svg\" height=\"24px\" viewBox=\"0 -960 960 960\">\n",
              "    <path d=\"M120-120v-720h720v720H120Zm60-500h600v-160H180v160Zm220 220h160v-160H400v160Zm0 220h160v-160H400v160ZM180-400h160v-160H180v160Zm440 0h160v-160H620v160ZM180-180h160v-160H180v160Zm440 0h160v-160H620v160Z\"/>\n",
              "  </svg>\n",
              "    </button>\n",
              "\n",
              "  <style>\n",
              "    .colab-df-container {\n",
              "      display:flex;\n",
              "      gap: 12px;\n",
              "    }\n",
              "\n",
              "    .colab-df-convert {\n",
              "      background-color: #E8F0FE;\n",
              "      border: none;\n",
              "      border-radius: 50%;\n",
              "      cursor: pointer;\n",
              "      display: none;\n",
              "      fill: #1967D2;\n",
              "      height: 32px;\n",
              "      padding: 0 0 0 0;\n",
              "      width: 32px;\n",
              "    }\n",
              "\n",
              "    .colab-df-convert:hover {\n",
              "      background-color: #E2EBFA;\n",
              "      box-shadow: 0px 1px 2px rgba(60, 64, 67, 0.3), 0px 1px 3px 1px rgba(60, 64, 67, 0.15);\n",
              "      fill: #174EA6;\n",
              "    }\n",
              "\n",
              "    .colab-df-buttons div {\n",
              "      margin-bottom: 4px;\n",
              "    }\n",
              "\n",
              "    [theme=dark] .colab-df-convert {\n",
              "      background-color: #3B4455;\n",
              "      fill: #D2E3FC;\n",
              "    }\n",
              "\n",
              "    [theme=dark] .colab-df-convert:hover {\n",
              "      background-color: #434B5C;\n",
              "      box-shadow: 0px 1px 3px 1px rgba(0, 0, 0, 0.15);\n",
              "      filter: drop-shadow(0px 1px 2px rgba(0, 0, 0, 0.3));\n",
              "      fill: #FFFFFF;\n",
              "    }\n",
              "  </style>\n",
              "\n",
              "    <script>\n",
              "      const buttonEl =\n",
              "        document.querySelector('#df-2294ff45-648d-4c70-b3ae-a87876838be8 button.colab-df-convert');\n",
              "      buttonEl.style.display =\n",
              "        google.colab.kernel.accessAllowed ? 'block' : 'none';\n",
              "\n",
              "      async function convertToInteractive(key) {\n",
              "        const element = document.querySelector('#df-2294ff45-648d-4c70-b3ae-a87876838be8');\n",
              "        const dataTable =\n",
              "          await google.colab.kernel.invokeFunction('convertToInteractive',\n",
              "                                                    [key], {});\n",
              "        if (!dataTable) return;\n",
              "\n",
              "        const docLinkHtml = 'Like what you see? Visit the ' +\n",
              "          '<a target=\"_blank\" href=https://colab.research.google.com/notebooks/data_table.ipynb>data table notebook</a>'\n",
              "          + ' to learn more about interactive tables.';\n",
              "        element.innerHTML = '';\n",
              "        dataTable['output_type'] = 'display_data';\n",
              "        await google.colab.output.renderOutput(dataTable, element);\n",
              "        const docLink = document.createElement('div');\n",
              "        docLink.innerHTML = docLinkHtml;\n",
              "        element.appendChild(docLink);\n",
              "      }\n",
              "    </script>\n",
              "  </div>\n",
              "\n",
              "\n",
              "    <div id=\"df-581ca2e1-11ac-4b8a-a95d-bdc1f24eb566\">\n",
              "      <button class=\"colab-df-quickchart\" onclick=\"quickchart('df-581ca2e1-11ac-4b8a-a95d-bdc1f24eb566')\"\n",
              "                title=\"Suggest charts\"\n",
              "                style=\"display:none;\">\n",
              "\n",
              "<svg xmlns=\"http://www.w3.org/2000/svg\" height=\"24px\"viewBox=\"0 0 24 24\"\n",
              "     width=\"24px\">\n",
              "    <g>\n",
              "        <path d=\"M19 3H5c-1.1 0-2 .9-2 2v14c0 1.1.9 2 2 2h14c1.1 0 2-.9 2-2V5c0-1.1-.9-2-2-2zM9 17H7v-7h2v7zm4 0h-2V7h2v10zm4 0h-2v-4h2v4z\"/>\n",
              "    </g>\n",
              "</svg>\n",
              "      </button>\n",
              "\n",
              "<style>\n",
              "  .colab-df-quickchart {\n",
              "      --bg-color: #E8F0FE;\n",
              "      --fill-color: #1967D2;\n",
              "      --hover-bg-color: #E2EBFA;\n",
              "      --hover-fill-color: #174EA6;\n",
              "      --disabled-fill-color: #AAA;\n",
              "      --disabled-bg-color: #DDD;\n",
              "  }\n",
              "\n",
              "  [theme=dark] .colab-df-quickchart {\n",
              "      --bg-color: #3B4455;\n",
              "      --fill-color: #D2E3FC;\n",
              "      --hover-bg-color: #434B5C;\n",
              "      --hover-fill-color: #FFFFFF;\n",
              "      --disabled-bg-color: #3B4455;\n",
              "      --disabled-fill-color: #666;\n",
              "  }\n",
              "\n",
              "  .colab-df-quickchart {\n",
              "    background-color: var(--bg-color);\n",
              "    border: none;\n",
              "    border-radius: 50%;\n",
              "    cursor: pointer;\n",
              "    display: none;\n",
              "    fill: var(--fill-color);\n",
              "    height: 32px;\n",
              "    padding: 0;\n",
              "    width: 32px;\n",
              "  }\n",
              "\n",
              "  .colab-df-quickchart:hover {\n",
              "    background-color: var(--hover-bg-color);\n",
              "    box-shadow: 0 1px 2px rgba(60, 64, 67, 0.3), 0 1px 3px 1px rgba(60, 64, 67, 0.15);\n",
              "    fill: var(--button-hover-fill-color);\n",
              "  }\n",
              "\n",
              "  .colab-df-quickchart-complete:disabled,\n",
              "  .colab-df-quickchart-complete:disabled:hover {\n",
              "    background-color: var(--disabled-bg-color);\n",
              "    fill: var(--disabled-fill-color);\n",
              "    box-shadow: none;\n",
              "  }\n",
              "\n",
              "  .colab-df-spinner {\n",
              "    border: 2px solid var(--fill-color);\n",
              "    border-color: transparent;\n",
              "    border-bottom-color: var(--fill-color);\n",
              "    animation:\n",
              "      spin 1s steps(1) infinite;\n",
              "  }\n",
              "\n",
              "  @keyframes spin {\n",
              "    0% {\n",
              "      border-color: transparent;\n",
              "      border-bottom-color: var(--fill-color);\n",
              "      border-left-color: var(--fill-color);\n",
              "    }\n",
              "    20% {\n",
              "      border-color: transparent;\n",
              "      border-left-color: var(--fill-color);\n",
              "      border-top-color: var(--fill-color);\n",
              "    }\n",
              "    30% {\n",
              "      border-color: transparent;\n",
              "      border-left-color: var(--fill-color);\n",
              "      border-top-color: var(--fill-color);\n",
              "      border-right-color: var(--fill-color);\n",
              "    }\n",
              "    40% {\n",
              "      border-color: transparent;\n",
              "      border-right-color: var(--fill-color);\n",
              "      border-top-color: var(--fill-color);\n",
              "    }\n",
              "    60% {\n",
              "      border-color: transparent;\n",
              "      border-right-color: var(--fill-color);\n",
              "    }\n",
              "    80% {\n",
              "      border-color: transparent;\n",
              "      border-right-color: var(--fill-color);\n",
              "      border-bottom-color: var(--fill-color);\n",
              "    }\n",
              "    90% {\n",
              "      border-color: transparent;\n",
              "      border-bottom-color: var(--fill-color);\n",
              "    }\n",
              "  }\n",
              "</style>\n",
              "\n",
              "      <script>\n",
              "        async function quickchart(key) {\n",
              "          const quickchartButtonEl =\n",
              "            document.querySelector('#' + key + ' button');\n",
              "          quickchartButtonEl.disabled = true;  // To prevent multiple clicks.\n",
              "          quickchartButtonEl.classList.add('colab-df-spinner');\n",
              "          try {\n",
              "            const charts = await google.colab.kernel.invokeFunction(\n",
              "                'suggestCharts', [key], {});\n",
              "          } catch (error) {\n",
              "            console.error('Error during call to suggestCharts:', error);\n",
              "          }\n",
              "          quickchartButtonEl.classList.remove('colab-df-spinner');\n",
              "          quickchartButtonEl.classList.add('colab-df-quickchart-complete');\n",
              "        }\n",
              "        (() => {\n",
              "          let quickchartButtonEl =\n",
              "            document.querySelector('#df-581ca2e1-11ac-4b8a-a95d-bdc1f24eb566 button');\n",
              "          quickchartButtonEl.style.display =\n",
              "            google.colab.kernel.accessAllowed ? 'block' : 'none';\n",
              "        })();\n",
              "      </script>\n",
              "    </div>\n",
              "\n",
              "    </div>\n",
              "  </div>\n"
            ],
            "application/vnd.google.colaboratory.intrinsic+json": {
              "type": "dataframe",
              "variable_name": "data",
              "summary": "{\n  \"name\": \"data\",\n  \"rows\": 200,\n  \"fields\": [\n    {\n      \"column\": \"CustomerID\",\n      \"properties\": {\n        \"dtype\": \"number\",\n        \"std\": 57,\n        \"min\": 1,\n        \"max\": 200,\n        \"num_unique_values\": 200,\n        \"samples\": [\n          96,\n          16,\n          31\n        ],\n        \"semantic_type\": \"\",\n        \"description\": \"\"\n      }\n    },\n    {\n      \"column\": \"Gender\",\n      \"properties\": {\n        \"dtype\": \"category\",\n        \"num_unique_values\": 2,\n        \"samples\": [\n          \"Female\",\n          \"Male\"\n        ],\n        \"semantic_type\": \"\",\n        \"description\": \"\"\n      }\n    },\n    {\n      \"column\": \"Age\",\n      \"properties\": {\n        \"dtype\": \"number\",\n        \"std\": 13,\n        \"min\": 18,\n        \"max\": 70,\n        \"num_unique_values\": 51,\n        \"samples\": [\n          55,\n          26\n        ],\n        \"semantic_type\": \"\",\n        \"description\": \"\"\n      }\n    },\n    {\n      \"column\": \"Annual Income (k$)\",\n      \"properties\": {\n        \"dtype\": \"number\",\n        \"std\": 26,\n        \"min\": 15,\n        \"max\": 137,\n        \"num_unique_values\": 64,\n        \"samples\": [\n          87,\n          101\n        ],\n        \"semantic_type\": \"\",\n        \"description\": \"\"\n      }\n    },\n    {\n      \"column\": \"Spending Score (1-100)\",\n      \"properties\": {\n        \"dtype\": \"number\",\n        \"std\": 25,\n        \"min\": 1,\n        \"max\": 99,\n        \"num_unique_values\": 84,\n        \"samples\": [\n          83,\n          39\n        ],\n        \"semantic_type\": \"\",\n        \"description\": \"\"\n      }\n    }\n  ]\n}"
            }
          },
          "metadata": {},
          "execution_count": 3
        }
      ]
    },
    {
      "cell_type": "markdown",
      "source": [
        "\n",
        "\n",
        "Parte 1: Carga y exploración de datos\n",
        "Instrucciones: Carga el siguiente conjunto de datos en un DataFrame de pandas. Luego, visualiza las primeras filas de los datos."
      ],
      "metadata": {
        "id": "K0A7b02Ydcz8"
      }
    },
    {
      "cell_type": "code",
      "source": [
        "data.head(10)\n"
      ],
      "metadata": {
        "id": "z7NpkE8WghIf",
        "outputId": "7588f6cf-26a4-43a3-ff75-340c9d3aec5b",
        "colab": {
          "base_uri": "https://localhost:8080/",
          "height": 363
        }
      },
      "execution_count": 4,
      "outputs": [
        {
          "output_type": "execute_result",
          "data": {
            "text/plain": [
              "   CustomerID  Gender  Age  Annual Income (k$)  Spending Score (1-100)\n",
              "0           1    Male   19                  15                      39\n",
              "1           2    Male   21                  15                      81\n",
              "2           3  Female   20                  16                       6\n",
              "3           4  Female   23                  16                      77\n",
              "4           5  Female   31                  17                      40\n",
              "5           6  Female   22                  17                      76\n",
              "6           7  Female   35                  18                       6\n",
              "7           8  Female   23                  18                      94\n",
              "8           9    Male   64                  19                       3\n",
              "9          10  Female   30                  19                      72"
            ],
            "text/html": [
              "\n",
              "  <div id=\"df-5cf1ddbf-04b9-4fce-b8e6-51b4d8770315\" class=\"colab-df-container\">\n",
              "    <div>\n",
              "<style scoped>\n",
              "    .dataframe tbody tr th:only-of-type {\n",
              "        vertical-align: middle;\n",
              "    }\n",
              "\n",
              "    .dataframe tbody tr th {\n",
              "        vertical-align: top;\n",
              "    }\n",
              "\n",
              "    .dataframe thead th {\n",
              "        text-align: right;\n",
              "    }\n",
              "</style>\n",
              "<table border=\"1\" class=\"dataframe\">\n",
              "  <thead>\n",
              "    <tr style=\"text-align: right;\">\n",
              "      <th></th>\n",
              "      <th>CustomerID</th>\n",
              "      <th>Gender</th>\n",
              "      <th>Age</th>\n",
              "      <th>Annual Income (k$)</th>\n",
              "      <th>Spending Score (1-100)</th>\n",
              "    </tr>\n",
              "  </thead>\n",
              "  <tbody>\n",
              "    <tr>\n",
              "      <th>0</th>\n",
              "      <td>1</td>\n",
              "      <td>Male</td>\n",
              "      <td>19</td>\n",
              "      <td>15</td>\n",
              "      <td>39</td>\n",
              "    </tr>\n",
              "    <tr>\n",
              "      <th>1</th>\n",
              "      <td>2</td>\n",
              "      <td>Male</td>\n",
              "      <td>21</td>\n",
              "      <td>15</td>\n",
              "      <td>81</td>\n",
              "    </tr>\n",
              "    <tr>\n",
              "      <th>2</th>\n",
              "      <td>3</td>\n",
              "      <td>Female</td>\n",
              "      <td>20</td>\n",
              "      <td>16</td>\n",
              "      <td>6</td>\n",
              "    </tr>\n",
              "    <tr>\n",
              "      <th>3</th>\n",
              "      <td>4</td>\n",
              "      <td>Female</td>\n",
              "      <td>23</td>\n",
              "      <td>16</td>\n",
              "      <td>77</td>\n",
              "    </tr>\n",
              "    <tr>\n",
              "      <th>4</th>\n",
              "      <td>5</td>\n",
              "      <td>Female</td>\n",
              "      <td>31</td>\n",
              "      <td>17</td>\n",
              "      <td>40</td>\n",
              "    </tr>\n",
              "    <tr>\n",
              "      <th>5</th>\n",
              "      <td>6</td>\n",
              "      <td>Female</td>\n",
              "      <td>22</td>\n",
              "      <td>17</td>\n",
              "      <td>76</td>\n",
              "    </tr>\n",
              "    <tr>\n",
              "      <th>6</th>\n",
              "      <td>7</td>\n",
              "      <td>Female</td>\n",
              "      <td>35</td>\n",
              "      <td>18</td>\n",
              "      <td>6</td>\n",
              "    </tr>\n",
              "    <tr>\n",
              "      <th>7</th>\n",
              "      <td>8</td>\n",
              "      <td>Female</td>\n",
              "      <td>23</td>\n",
              "      <td>18</td>\n",
              "      <td>94</td>\n",
              "    </tr>\n",
              "    <tr>\n",
              "      <th>8</th>\n",
              "      <td>9</td>\n",
              "      <td>Male</td>\n",
              "      <td>64</td>\n",
              "      <td>19</td>\n",
              "      <td>3</td>\n",
              "    </tr>\n",
              "    <tr>\n",
              "      <th>9</th>\n",
              "      <td>10</td>\n",
              "      <td>Female</td>\n",
              "      <td>30</td>\n",
              "      <td>19</td>\n",
              "      <td>72</td>\n",
              "    </tr>\n",
              "  </tbody>\n",
              "</table>\n",
              "</div>\n",
              "    <div class=\"colab-df-buttons\">\n",
              "\n",
              "  <div class=\"colab-df-container\">\n",
              "    <button class=\"colab-df-convert\" onclick=\"convertToInteractive('df-5cf1ddbf-04b9-4fce-b8e6-51b4d8770315')\"\n",
              "            title=\"Convert this dataframe to an interactive table.\"\n",
              "            style=\"display:none;\">\n",
              "\n",
              "  <svg xmlns=\"http://www.w3.org/2000/svg\" height=\"24px\" viewBox=\"0 -960 960 960\">\n",
              "    <path d=\"M120-120v-720h720v720H120Zm60-500h600v-160H180v160Zm220 220h160v-160H400v160Zm0 220h160v-160H400v160ZM180-400h160v-160H180v160Zm440 0h160v-160H620v160ZM180-180h160v-160H180v160Zm440 0h160v-160H620v160Z\"/>\n",
              "  </svg>\n",
              "    </button>\n",
              "\n",
              "  <style>\n",
              "    .colab-df-container {\n",
              "      display:flex;\n",
              "      gap: 12px;\n",
              "    }\n",
              "\n",
              "    .colab-df-convert {\n",
              "      background-color: #E8F0FE;\n",
              "      border: none;\n",
              "      border-radius: 50%;\n",
              "      cursor: pointer;\n",
              "      display: none;\n",
              "      fill: #1967D2;\n",
              "      height: 32px;\n",
              "      padding: 0 0 0 0;\n",
              "      width: 32px;\n",
              "    }\n",
              "\n",
              "    .colab-df-convert:hover {\n",
              "      background-color: #E2EBFA;\n",
              "      box-shadow: 0px 1px 2px rgba(60, 64, 67, 0.3), 0px 1px 3px 1px rgba(60, 64, 67, 0.15);\n",
              "      fill: #174EA6;\n",
              "    }\n",
              "\n",
              "    .colab-df-buttons div {\n",
              "      margin-bottom: 4px;\n",
              "    }\n",
              "\n",
              "    [theme=dark] .colab-df-convert {\n",
              "      background-color: #3B4455;\n",
              "      fill: #D2E3FC;\n",
              "    }\n",
              "\n",
              "    [theme=dark] .colab-df-convert:hover {\n",
              "      background-color: #434B5C;\n",
              "      box-shadow: 0px 1px 3px 1px rgba(0, 0, 0, 0.15);\n",
              "      filter: drop-shadow(0px 1px 2px rgba(0, 0, 0, 0.3));\n",
              "      fill: #FFFFFF;\n",
              "    }\n",
              "  </style>\n",
              "\n",
              "    <script>\n",
              "      const buttonEl =\n",
              "        document.querySelector('#df-5cf1ddbf-04b9-4fce-b8e6-51b4d8770315 button.colab-df-convert');\n",
              "      buttonEl.style.display =\n",
              "        google.colab.kernel.accessAllowed ? 'block' : 'none';\n",
              "\n",
              "      async function convertToInteractive(key) {\n",
              "        const element = document.querySelector('#df-5cf1ddbf-04b9-4fce-b8e6-51b4d8770315');\n",
              "        const dataTable =\n",
              "          await google.colab.kernel.invokeFunction('convertToInteractive',\n",
              "                                                    [key], {});\n",
              "        if (!dataTable) return;\n",
              "\n",
              "        const docLinkHtml = 'Like what you see? Visit the ' +\n",
              "          '<a target=\"_blank\" href=https://colab.research.google.com/notebooks/data_table.ipynb>data table notebook</a>'\n",
              "          + ' to learn more about interactive tables.';\n",
              "        element.innerHTML = '';\n",
              "        dataTable['output_type'] = 'display_data';\n",
              "        await google.colab.output.renderOutput(dataTable, element);\n",
              "        const docLink = document.createElement('div');\n",
              "        docLink.innerHTML = docLinkHtml;\n",
              "        element.appendChild(docLink);\n",
              "      }\n",
              "    </script>\n",
              "  </div>\n",
              "\n",
              "\n",
              "    <div id=\"df-5920e742-446a-41f0-af97-bdf98bd7dc53\">\n",
              "      <button class=\"colab-df-quickchart\" onclick=\"quickchart('df-5920e742-446a-41f0-af97-bdf98bd7dc53')\"\n",
              "                title=\"Suggest charts\"\n",
              "                style=\"display:none;\">\n",
              "\n",
              "<svg xmlns=\"http://www.w3.org/2000/svg\" height=\"24px\"viewBox=\"0 0 24 24\"\n",
              "     width=\"24px\">\n",
              "    <g>\n",
              "        <path d=\"M19 3H5c-1.1 0-2 .9-2 2v14c0 1.1.9 2 2 2h14c1.1 0 2-.9 2-2V5c0-1.1-.9-2-2-2zM9 17H7v-7h2v7zm4 0h-2V7h2v10zm4 0h-2v-4h2v4z\"/>\n",
              "    </g>\n",
              "</svg>\n",
              "      </button>\n",
              "\n",
              "<style>\n",
              "  .colab-df-quickchart {\n",
              "      --bg-color: #E8F0FE;\n",
              "      --fill-color: #1967D2;\n",
              "      --hover-bg-color: #E2EBFA;\n",
              "      --hover-fill-color: #174EA6;\n",
              "      --disabled-fill-color: #AAA;\n",
              "      --disabled-bg-color: #DDD;\n",
              "  }\n",
              "\n",
              "  [theme=dark] .colab-df-quickchart {\n",
              "      --bg-color: #3B4455;\n",
              "      --fill-color: #D2E3FC;\n",
              "      --hover-bg-color: #434B5C;\n",
              "      --hover-fill-color: #FFFFFF;\n",
              "      --disabled-bg-color: #3B4455;\n",
              "      --disabled-fill-color: #666;\n",
              "  }\n",
              "\n",
              "  .colab-df-quickchart {\n",
              "    background-color: var(--bg-color);\n",
              "    border: none;\n",
              "    border-radius: 50%;\n",
              "    cursor: pointer;\n",
              "    display: none;\n",
              "    fill: var(--fill-color);\n",
              "    height: 32px;\n",
              "    padding: 0;\n",
              "    width: 32px;\n",
              "  }\n",
              "\n",
              "  .colab-df-quickchart:hover {\n",
              "    background-color: var(--hover-bg-color);\n",
              "    box-shadow: 0 1px 2px rgba(60, 64, 67, 0.3), 0 1px 3px 1px rgba(60, 64, 67, 0.15);\n",
              "    fill: var(--button-hover-fill-color);\n",
              "  }\n",
              "\n",
              "  .colab-df-quickchart-complete:disabled,\n",
              "  .colab-df-quickchart-complete:disabled:hover {\n",
              "    background-color: var(--disabled-bg-color);\n",
              "    fill: var(--disabled-fill-color);\n",
              "    box-shadow: none;\n",
              "  }\n",
              "\n",
              "  .colab-df-spinner {\n",
              "    border: 2px solid var(--fill-color);\n",
              "    border-color: transparent;\n",
              "    border-bottom-color: var(--fill-color);\n",
              "    animation:\n",
              "      spin 1s steps(1) infinite;\n",
              "  }\n",
              "\n",
              "  @keyframes spin {\n",
              "    0% {\n",
              "      border-color: transparent;\n",
              "      border-bottom-color: var(--fill-color);\n",
              "      border-left-color: var(--fill-color);\n",
              "    }\n",
              "    20% {\n",
              "      border-color: transparent;\n",
              "      border-left-color: var(--fill-color);\n",
              "      border-top-color: var(--fill-color);\n",
              "    }\n",
              "    30% {\n",
              "      border-color: transparent;\n",
              "      border-left-color: var(--fill-color);\n",
              "      border-top-color: var(--fill-color);\n",
              "      border-right-color: var(--fill-color);\n",
              "    }\n",
              "    40% {\n",
              "      border-color: transparent;\n",
              "      border-right-color: var(--fill-color);\n",
              "      border-top-color: var(--fill-color);\n",
              "    }\n",
              "    60% {\n",
              "      border-color: transparent;\n",
              "      border-right-color: var(--fill-color);\n",
              "    }\n",
              "    80% {\n",
              "      border-color: transparent;\n",
              "      border-right-color: var(--fill-color);\n",
              "      border-bottom-color: var(--fill-color);\n",
              "    }\n",
              "    90% {\n",
              "      border-color: transparent;\n",
              "      border-bottom-color: var(--fill-color);\n",
              "    }\n",
              "  }\n",
              "</style>\n",
              "\n",
              "      <script>\n",
              "        async function quickchart(key) {\n",
              "          const quickchartButtonEl =\n",
              "            document.querySelector('#' + key + ' button');\n",
              "          quickchartButtonEl.disabled = true;  // To prevent multiple clicks.\n",
              "          quickchartButtonEl.classList.add('colab-df-spinner');\n",
              "          try {\n",
              "            const charts = await google.colab.kernel.invokeFunction(\n",
              "                'suggestCharts', [key], {});\n",
              "          } catch (error) {\n",
              "            console.error('Error during call to suggestCharts:', error);\n",
              "          }\n",
              "          quickchartButtonEl.classList.remove('colab-df-spinner');\n",
              "          quickchartButtonEl.classList.add('colab-df-quickchart-complete');\n",
              "        }\n",
              "        (() => {\n",
              "          let quickchartButtonEl =\n",
              "            document.querySelector('#df-5920e742-446a-41f0-af97-bdf98bd7dc53 button');\n",
              "          quickchartButtonEl.style.display =\n",
              "            google.colab.kernel.accessAllowed ? 'block' : 'none';\n",
              "        })();\n",
              "      </script>\n",
              "    </div>\n",
              "\n",
              "    </div>\n",
              "  </div>\n"
            ],
            "application/vnd.google.colaboratory.intrinsic+json": {
              "type": "dataframe",
              "variable_name": "data",
              "summary": "{\n  \"name\": \"data\",\n  \"rows\": 200,\n  \"fields\": [\n    {\n      \"column\": \"CustomerID\",\n      \"properties\": {\n        \"dtype\": \"number\",\n        \"std\": 57,\n        \"min\": 1,\n        \"max\": 200,\n        \"num_unique_values\": 200,\n        \"samples\": [\n          96,\n          16,\n          31\n        ],\n        \"semantic_type\": \"\",\n        \"description\": \"\"\n      }\n    },\n    {\n      \"column\": \"Gender\",\n      \"properties\": {\n        \"dtype\": \"category\",\n        \"num_unique_values\": 2,\n        \"samples\": [\n          \"Female\",\n          \"Male\"\n        ],\n        \"semantic_type\": \"\",\n        \"description\": \"\"\n      }\n    },\n    {\n      \"column\": \"Age\",\n      \"properties\": {\n        \"dtype\": \"number\",\n        \"std\": 13,\n        \"min\": 18,\n        \"max\": 70,\n        \"num_unique_values\": 51,\n        \"samples\": [\n          55,\n          26\n        ],\n        \"semantic_type\": \"\",\n        \"description\": \"\"\n      }\n    },\n    {\n      \"column\": \"Annual Income (k$)\",\n      \"properties\": {\n        \"dtype\": \"number\",\n        \"std\": 26,\n        \"min\": 15,\n        \"max\": 137,\n        \"num_unique_values\": 64,\n        \"samples\": [\n          87,\n          101\n        ],\n        \"semantic_type\": \"\",\n        \"description\": \"\"\n      }\n    },\n    {\n      \"column\": \"Spending Score (1-100)\",\n      \"properties\": {\n        \"dtype\": \"number\",\n        \"std\": 25,\n        \"min\": 1,\n        \"max\": 99,\n        \"num_unique_values\": 84,\n        \"samples\": [\n          83,\n          39\n        ],\n        \"semantic_type\": \"\",\n        \"description\": \"\"\n      }\n    }\n  ]\n}"
            }
          },
          "metadata": {},
          "execution_count": 4
        }
      ]
    },
    {
      "cell_type": "markdown",
      "source": [
        "Pregunta 1: ¿Cuáles son las variables que contiene el conjunto de datos? Describe brevemente qué información proporciona cada variable."
      ],
      "metadata": {
        "id": "EMn45ZlqdhZj"
      }
    },
    {
      "cell_type": "code",
      "source": [
        "print(data.info())\n",
        "print(data.describe())\n",
        "#CustomerID: Identificador único de cada cliente.\n",
        "#Gender: Género del cliente (Masculino o Femenino).\n",
        "#Age: Edad del cliente.\n",
        "#Annual Income (k$): Ingreso anual del cliente en miles de dólares.\n",
        "#Spending Score (1-100): Puntuación de gasto del cliente, que indica su propensión a gastar en la tienda (1 siendo el menor gasto y 100 el mayor gasto).\n"
      ],
      "metadata": {
        "id": "gF2gJthDggwi",
        "outputId": "62d9381e-53cc-40d8-e680-331e6ea479e4",
        "colab": {
          "base_uri": "https://localhost:8080/"
        }
      },
      "execution_count": 7,
      "outputs": [
        {
          "output_type": "stream",
          "name": "stdout",
          "text": [
            "<class 'pandas.core.frame.DataFrame'>\n",
            "RangeIndex: 200 entries, 0 to 199\n",
            "Data columns (total 5 columns):\n",
            " #   Column                  Non-Null Count  Dtype \n",
            "---  ------                  --------------  ----- \n",
            " 0   CustomerID              200 non-null    int64 \n",
            " 1   Gender                  200 non-null    object\n",
            " 2   Age                     200 non-null    int64 \n",
            " 3   Annual Income (k$)      200 non-null    int64 \n",
            " 4   Spending Score (1-100)  200 non-null    int64 \n",
            "dtypes: int64(4), object(1)\n",
            "memory usage: 7.9+ KB\n",
            "None\n",
            "       CustomerID         Age  Annual Income (k$)  Spending Score (1-100)\n",
            "count  200.000000  200.000000          200.000000              200.000000\n",
            "mean   100.500000   38.850000           60.560000               50.200000\n",
            "std     57.879185   13.969007           26.264721               25.823522\n",
            "min      1.000000   18.000000           15.000000                1.000000\n",
            "25%     50.750000   28.750000           41.500000               34.750000\n",
            "50%    100.500000   36.000000           61.500000               50.000000\n",
            "75%    150.250000   49.000000           78.000000               73.000000\n",
            "max    200.000000   70.000000          137.000000               99.000000\n"
          ]
        }
      ]
    },
    {
      "cell_type": "markdown",
      "source": [
        "Parte 2: Preprocesamiento de los datos\n",
        "Instrucciones: Convierte la columna Gender a una variable numérica, y luego selecciona las columnas que utilizarás para aplicar el modelo de K-means. Finalmente, normaliza los datos para que todas las variables estén en la misma escala."
      ],
      "metadata": {
        "id": "JT_q3-fgdhUB"
      }
    },
    {
      "cell_type": "code",
      "source": [
        "# Convertir la columna Gender a una variable numérica (0 para Male, 1 para Female)\n",
        "data['Gender'] = data['Gender'].map({'Male': 0, 'Female': 1})\n",
        "\n",
        "# Seleccionar las columnas para el modelo K-means\n",
        "X = data[['Gender', 'Age', 'Annual Income (k$)', 'Spending Score (1-100)']]\n",
        "\n",
        "# Normalizar los datos\n",
        "scaler = StandardScaler()\n",
        "X_scaled = scaler.fit_transform(X)\n"
      ],
      "metadata": {
        "id": "6USH_eSbggdh"
      },
      "execution_count": 8,
      "outputs": []
    },
    {
      "cell_type": "markdown",
      "source": [
        "Pregunta 2: ¿Por qué es importante normalizar los datos antes de aplicar el algoritmo K-means? Explica en qué consiste la normalización.\n",
        "\n"
      ],
      "metadata": {
        "id": "Hrs_qhbGdhJB"
      }
    },
    {
      "cell_type": "markdown",
      "source": [
        "Es importante normalizar los datos antes de aplicar el algoritmo K-means porque este algoritmo se basa en la distancia entre los puntos de datos para agruparlos. Si las variables tienen diferentes escalas, las variables con valores más grandes tendrán una influencia mayor en la distancia, lo que puede sesgar los resultados del clustering.\n",
        "\n",
        "La normalización es un proceso que consiste en transformar los datos para que tengan una media de 0 y una desviación estándar de 1. Esto hace que todas las variables tengan la misma escala y, por lo tanto, la misma influencia en el cálculo de la distancia entre los puntos. Existen otros métodos de normalización, como la estandarización (min-max scaling), que escalan las variables a un rango específico, por ejemplo, entre 0 y 1.\n",
        "En este caso, se utiliza StandardScaler de scikit-learn, que realiza la estandarización de los datos.\n"
      ],
      "metadata": {
        "id": "cn9gFtTptoDL"
      }
    },
    {
      "cell_type": "markdown",
      "source": [
        "Parte 3: Método del codo para determinar el número óptimo de clusters\n",
        "Instrucciones: Utiliza el método del codo para determinar cuántos clusters son óptimos para el conjunto de datos.\n"
      ],
      "metadata": {
        "id": "wu2U5hqDd8HF"
      }
    },
    {
      "cell_type": "code",
      "source": [
        "wcss = []\n",
        "for i in range(1, 11):\n",
        "    kmeans = KMeans(n_clusters=i, init='k-means++', random_state=42)\n",
        "    kmeans.fit(X_scaled)\n",
        "    wcss.append(kmeans.inertia_)\n",
        "\n",
        "plt.plot(range(1, 11), wcss)\n",
        "plt.title('Método del Codo')\n",
        "plt.xlabel('Número de Clusters')\n",
        "plt.ylabel('WCSS')\n",
        "plt.show()\n"
      ],
      "metadata": {
        "id": "XIVR0tn3uTIT",
        "outputId": "f6ba4296-a61b-4fc5-e854-dd258b801111",
        "colab": {
          "base_uri": "https://localhost:8080/",
          "height": 472
        }
      },
      "execution_count": 11,
      "outputs": [
        {
          "output_type": "display_data",
          "data": {
            "text/plain": [
              "<Figure size 640x480 with 1 Axes>"
            ],
            "image/png": "[encoded data removed]"
          },
          "metadata": {}
        }
      ]
    },
    {
      "cell_type": "markdown",
      "source": [
        "Pregunta 3: Observa la gráfica obtenida. ¿En qué punto parece formarse el \"codo\"? ¿Cuántos clusters crees que sería apropiado usar para este ejercicio?"
      ],
      "metadata": {
        "id": "c8surdBod_8p"
      }
    },
    {
      "cell_type": "markdown",
      "source": [
        "El \"codo\" en la gráfica del método del codo parece formarse alrededor de **k=5**. Aunque hay una ligera curva en k=3, la reducción en WCSS disminuye significativamente después de k=5. Por lo tanto, creo que sería apropiado usar **5 clusters** para este ejercicio.\n"
      ],
      "metadata": {
        "id": "TF_k7lkkufWC"
      }
    },
    {
      "cell_type": "markdown",
      "source": [
        "Parte 4: Ajuste del modelo K-means y asignación de clusters\n",
        "Instrucciones: Ajusta el modelo K-means con el número de clusters que determinaste en el paso anterior y asigna a cada cliente un número de cluster."
      ],
      "metadata": {
        "id": "wm_ptmRUgAfO"
      }
    },
    {
      "cell_type": "code",
      "source": [
        "# Ajustar el modelo K-means con 5 clusters\n",
        "kmeans = KMeans(n_clusters=5, init='k-means++', random_state=42)\n",
        "kmeans.fit(X_scaled)\n",
        "\n",
        "# Asignar los clusters a cada cliente\n",
        "data['Cluster'] = kmeans.labels_\n"
      ],
      "metadata": {
        "id": "RREKJomZgc-I"
      },
      "execution_count": 14,
      "outputs": []
    },
    {
      "cell_type": "markdown",
      "source": [
        "Pregunta 4: ¿Qué observas en los resultados? ¿Cómo se distribuyen los clientes en los diferentes clusters?"
      ],
      "metadata": {
        "id": "P4HQllXlgEQl"
      }
    },
    {
      "cell_type": "code",
      "source": [
        "# Ejemplo con 'Annual Income' y 'Spending Score'\n",
        "plt.figure(figsize=(10, 6))\n",
        "for cluster in range(5):\n",
        "    plt.scatter(data[data['Cluster'] == cluster]['Annual Income (k$)'],\n",
        "                data[data['Cluster'] == cluster]['Spending Score (1-100)'],\n",
        "                label=f'Cluster {cluster}')\n",
        "plt.scatter(kmeans.cluster_centers_[:, 2], kmeans.cluster_centers_[:, 3], s=300, c='red', label='Centroides') # Centroides\n",
        "plt.xlabel('Ingreso Anual (k$)')\n",
        "plt.ylabel('Puntuación de Gasto')\n",
        "plt.title('Clusters de Clientes')\n",
        "plt.legend()\n",
        "plt.show()\n",
        "\n",
        "# Otros gráficos de dispersión para explorar las relaciones entre otras variables:\n",
        "# 'Age' vs 'Spending Score'\n",
        "# 'Age' vs 'Annual Income'\n",
        "# 'Gender' vs 'Spending Score'\n",
        "# 'Gender' vs 'Annual Income'\n",
        "\n",
        "# Observaciones basadas en la gráfica de ejemplo (Ingreso Anual vs Puntuación de Gasto):\n",
        "#  * Es probable que cada cluster represente un segmento de clientes con patrones de compra diferentes.\n",
        "#  * Deberían analizarse las características de cada cluster (media de edad, ingresos, género y puntuación de gasto) para entender mejor su composición.\n",
        "#  * Por ejemplo, un cluster podría representar a clientes con altos ingresos y alta puntuación de gasto (\"clientes VIP\"), otro podría tener altos ingresos pero baja puntuación de gasto (\"ahorradores\"), etc.  Esto debería quedar claro al analizar las estadísticas descriptivas de cada cluster.\n",
        "# La interpretación final depende de la visualización de las relaciones entre las diferentes variables.\n",
        "\n",
        "\n",
        "# Análisis descriptivo para cada cluster:\n",
        "for cluster in range(5):\n",
        "    print(f\"\\nCluster {cluster}:\")\n",
        "    print(data[data['Cluster'] == cluster][['Age', 'Annual Income (k$)', 'Spending Score (1-100)']].describe())\n",
        "\n",
        "#  Observando las estadísticas descriptivas de cada cluster se podrá observar si cada cluster tiene, por ejemplo, mayor edad promedio, mayor gasto, etc."
      ],
      "metadata": {
        "id": "0mRosPMpvAya",
        "outputId": "daf43a3b-e8a1-4a19-a002-ee27b845211b",
        "colab": {
          "base_uri": "https://localhost:8080/",
          "height": 1000
        }
      },
      "execution_count": 16,
      "outputs": [
        {
          "output_type": "display_data",
          "data": {
            "text/plain": [
              "<Figure size 1000x600 with 1 Axes>"
            ],
            "image/png": "[encoded data removed]"
          },
          "metadata": {}
        },
        {
          "output_type": "stream",
          "name": "stdout",
          "text": [
            "\n",
            "Cluster 0:\n",
            "             Age  Annual Income (k$)  Spending Score (1-100)\n",
            "count  51.000000           51.000000               51.000000\n",
            "mean   56.470588           46.098039               39.313725\n",
            "std     8.582198           14.006077               17.324538\n",
            "min    37.000000           19.000000                3.000000\n",
            "25%    49.000000           38.500000               30.500000\n",
            "50%    55.000000           47.000000               46.000000\n",
            "75%    65.000000           57.500000               51.500000\n",
            "max    70.000000           75.000000               60.000000\n",
            "\n",
            "Cluster 1:\n",
            "             Age  Annual Income (k$)  Spending Score (1-100)\n",
            "count  20.000000           20.000000               20.000000\n",
            "mean   39.500000           85.150000               14.050000\n",
            "std    12.550949           16.030481                9.566801\n",
            "min    19.000000           71.000000                1.000000\n",
            "25%    32.750000           76.250000                8.750000\n",
            "50%    41.000000           79.500000               12.500000\n",
            "75%    47.250000           87.250000               17.250000\n",
            "max    59.000000          137.000000               36.000000\n",
            "\n",
            "Cluster 2:\n",
            "             Age  Annual Income (k$)  Spending Score (1-100)\n",
            "count  42.000000           42.000000               42.000000\n",
            "mean   28.690476           60.904762               70.238095\n",
            "std     7.110583           29.017917               17.621785\n",
            "min    18.000000           15.000000               35.000000\n",
            "25%    22.500000           39.000000               55.250000\n",
            "50%    28.500000           61.500000               73.000000\n",
            "75%    34.750000           77.750000               86.750000\n",
            "max    40.000000          137.000000               97.000000\n",
            "\n",
            "Cluster 3:\n",
            "             Age  Annual Income (k$)  Spending Score (1-100)\n",
            "count  49.000000           49.000000               49.000000\n",
            "mean   37.897959           82.122449               54.448980\n",
            "std     8.244303           17.297197               26.641181\n",
            "min    23.000000           54.000000                7.000000\n",
            "25%    31.000000           70.000000               32.000000\n",
            "50%    36.000000           78.000000               53.000000\n",
            "75%    45.000000           97.000000               78.000000\n",
            "max    56.000000          126.000000               95.000000\n",
            "\n",
            "Cluster 4:\n",
            "             Age  Annual Income (k$)  Spending Score (1-100)\n",
            "count  38.000000           38.000000               38.000000\n",
            "mean   27.315789           38.842105               56.210526\n",
            "std     6.456111           16.628738               21.968230\n",
            "min    18.000000           16.000000                6.000000\n",
            "25%    22.000000           21.500000               42.000000\n",
            "50%    27.000000           39.000000               53.000000\n",
            "75%    31.750000           54.000000               73.000000\n",
            "max    43.000000           65.000000               99.000000\n"
          ]
        }
      ]
    },
    {
      "cell_type": "markdown",
      "source": [
        "Parte 5: Análisis descriptivo de los clusters\n",
        "Instrucciones: Realiza un análisis descriptivo de cada cluster. Calcula la edad promedio, el ingreso anual y el puntaje de gasto promedio de cada grupo de clientes."
      ],
      "metadata": {
        "id": "eyVOA1IegG8_"
      }
    },
    {
      "cell_type": "code",
      "source": [
        "# Análisis descriptivo para cada cluster:\n",
        "for cluster in range(5):\n",
        "    cluster_data = data[data['Cluster'] == cluster]\n",
        "    avg_age = cluster_data['Age'].mean()\n",
        "    avg_income = cluster_data['Annual Income (k$)'].mean()\n",
        "    avg_spending_score = cluster_data['Spending Score (1-100)'].mean()\n",
        "\n",
        "    print(f\"\\nCluster {cluster}:\")\n",
        "    print(f\"  Edad promedio: {avg_age:.2f}\")\n",
        "    print(f\"  Ingreso anual promedio: {avg_income:.2f}\")\n",
        "    print(f\"  Puntaje de gasto promedio: {avg_spending_score:.2f}\")\n"
      ],
      "metadata": {
        "id": "7mdhQi_fgcNa",
        "outputId": "efd15dff-06c6-4460-b1e4-f6bcdf465626",
        "colab": {
          "base_uri": "https://localhost:8080/"
        }
      },
      "execution_count": 17,
      "outputs": [
        {
          "output_type": "stream",
          "name": "stdout",
          "text": [
            "\n",
            "Cluster 0:\n",
            "  Edad promedio: 56.47\n",
            "  Ingreso anual promedio: 46.10\n",
            "  Puntaje de gasto promedio: 39.31\n",
            "\n",
            "Cluster 1:\n",
            "  Edad promedio: 39.50\n",
            "  Ingreso anual promedio: 85.15\n",
            "  Puntaje de gasto promedio: 14.05\n",
            "\n",
            "Cluster 2:\n",
            "  Edad promedio: 28.69\n",
            "  Ingreso anual promedio: 60.90\n",
            "  Puntaje de gasto promedio: 70.24\n",
            "\n",
            "Cluster 3:\n",
            "  Edad promedio: 37.90\n",
            "  Ingreso anual promedio: 82.12\n",
            "  Puntaje de gasto promedio: 54.45\n",
            "\n",
            "Cluster 4:\n",
            "  Edad promedio: 27.32\n",
            "  Ingreso anual promedio: 38.84\n",
            "  Puntaje de gasto promedio: 56.21\n"
          ]
        }
      ]
    },
    {
      "cell_type": "markdown",
      "source": [
        "Parte 6: Visualización de los clusters\n",
        "Instrucciones: Grafica los clusters en un espacio bidimensional utilizando dos de las características principales (por ejemplo, edad y puntaje de gasto)."
      ],
      "metadata": {
        "id": "QYpyFNVrgSE-"
      }
    },
    {
      "cell_type": "code",
      "source": [
        "plt.figure(figsize=(10, 6))\n",
        "for cluster in range(5):\n",
        "    plt.scatter(data[data['Cluster'] == cluster]['Age'],\n",
        "                data[data['Cluster'] == cluster]['Spending Score (1-100)'],\n",
        "                label=f'Cluster {cluster}')\n",
        "plt.scatter(kmeans.cluster_centers_[:, 1], kmeans.cluster_centers_[:, 3], s=300, c='red', label='Centroides') # Centroides, ajustando las columnas para 'Age' y 'Spending Score'\n",
        "plt.xlabel('Edad')\n",
        "plt.ylabel('Puntuación de Gasto')\n",
        "plt.title('Clusters de Clientes (Edad vs. Puntuación de Gasto)')\n",
        "plt.legend()\n",
        "plt.show()\n"
      ],
      "metadata": {
        "id": "yS303gujgbj-",
        "outputId": "73a4e70f-547a-4152-f880-fc3f3f41e14d",
        "colab": {
          "base_uri": "https://localhost:8080/",
          "height": 564
        }
      },
      "execution_count": 18,
      "outputs": [
        {
          "output_type": "display_data",
          "data": {
            "text/plain": [
              "<Figure size 1000x600 with 1 Axes>"
            ],
            "image/png": "[encoded data removed]"
          },
          "metadata": {}
        }
      ]
    },
    {
      "cell_type": "markdown",
      "source": [
        "Pregunta 6: Observa la gráfica. ¿Qué patrones puedes identificar visualmente en los datos? ¿Los clientes están claramente separados en grupos?"
      ],
      "metadata": {
        "id": "V4VIvavegZX2"
      }
    },
    {
      "cell_type": "markdown",
      "source": [
        " Observaciones basadas en la gráfica de ejemplo (Edad vs Puntuación de Gasto):\n",
        "  * Se pueden observar algunos patrones visuales en la distribución de los clusters, aunque no hay una separación perfecta entre los grupos.\n",
        "  * Algunos clusters muestran una mayor concentración de puntos, lo que sugiere que hay grupos de clientes con características similares en términos de edad y puntaje de gasto.  Otros clusters parecen ser más dispersos.\n",
        "  * La superposición de algunos clusters indica que no hay una separación nítida entre los grupos. Algunos clientes pueden compartir características similares con los clientes de otros clusters.\n",
        "\n",
        " Para dar una respuesta más precisa a la pregunta, se deben analizar las gráficas de 'Annual Income' vs. 'Spending Score' y otras combinaciones de variables.  \n",
        "\n",
        " Para mejorar la interpretación:\n",
        " * Examinar la dispersión de los puntos dentro de cada cluster. Un cluster con una mayor dispersión puede indicar que es menos homogéneo que un cluster con puntos más concentrados.\n",
        " * Considerar la ubicación de los centroides en relación con los clusters. Los centroides bien separados sugieren una mejor separación entre los grupos.\n",
        " * Repetir el análisis con diferentes combinaciones de variables para obtener una perspectiva más completa de las posibles agrupaciones de clientes.\n"
      ],
      "metadata": {
        "id": "zcnRIAJowLMa"
      }
    },
    {
      "cell_type": "markdown",
      "source": [
        "\n",
        "Parte 7: Interpretación y nombres de los clusters\n",
        "Instrucciones: Basado en el análisis descriptivo y la visualización, asigna nombres a los clusters que describan a cada grupo de clientes. Por ejemplo, si un grupo tiene clientes jóvenes con altos puntajes de gasto, podrías llamarlo \"Jóvenes con alto poder adquisitivo\".\n",
        "\n",
        "Pregunta 7: ¿Qué nombres asignarías a cada cluster? Justifica tu decisión basándote en las características promedio de los grupos."
      ],
      "metadata": {
        "id": "o5zaXFpjgUvS"
      }
    },
    {
      "cell_type": "code",
      "source": [
        "cluster_names = {\n",
        "    0: \"Ahorradores Conscientes\", # Ejemplo: Edad promedio 45, Ingreso alto, Gasto bajo\n",
        "    1: \"Jóvenes Gastadores\",      # Ejemplo: Edad promedio 25, Ingreso medio, Gasto alto\n",
        "    2: \"Familias Establecidas\",    # Ejemplo: Edad promedio 40, Ingreso alto, Gasto medio\n",
        "    3: \"Adultos Moderados\",      # Ejemplo: Edad promedio 35, Ingreso medio, Gasto medio\n",
        "    4: \"Buscadores de Ofertas\"      # Ejemplo: Edad promedio 30, Ingreso bajo, Gasto bajo\n",
        "}\n",
        "\n",
        "\n",
        "# Imprime los nombres de los clusters\n",
        "for cluster in range(5):\n",
        "  print(f\"Cluster {cluster}: {cluster_names[cluster]}\")\n",
        "\n",
        "# Justificación basada en ejemplos (REEMPLAZAR CON TUS RESULTADOS):\n",
        "\n",
        "# Cluster 0 (Ahorradores Conscientes): Este cluster podría agrupar clientes con ingresos altos pero bajos puntajes de gasto. Podrían ser personas que priorizan el ahorro y la inversión.\n",
        "\n",
        "# Cluster 1 (Jóvenes Gastadores):  Este cluster probablemente agrupará a clientes jóvenes con ingresos medios y altos puntajes de gasto.  Son personas que gastan una parte considerable de sus ingresos en bienes y servicios.\n",
        "\n",
        "# Cluster 2 (Familias Establecidas): Este grupo representaría clientes de mediana edad con altos ingresos y puntajes de gasto moderados. Probablemente sean familias con gastos regulares.\n",
        "\n",
        "# Cluster 3 (Adultos Moderados): Este cluster reuniría a clientes con ingresos y gastos promedio, mostrando un comportamiento de compra moderado.\n",
        "\n",
        "# Cluster 4 (Buscadores de Ofertas): Este grupo estaría conformado por clientes con ingresos bajos y bajos puntajes de gasto. Podrían ser personas que buscan ofertas y precios bajos.\n",
        "\n",
        "# NOTA IMPORTANTE: Es crucial utilizar los datos reales de tu análisis para ajustar estos nombres y justificaciones.  Observa los valores promedio de edad, ingresos y puntaje de gasto para cada cluster para obtener nombres más precisos.\n"
      ],
      "metadata": {
        "id": "nd0F4i1-dcdz",
        "outputId": "1d5a824c-268d-419b-a474-0204780296cd",
        "colab": {
          "base_uri": "https://localhost:8080/"
        }
      },
      "execution_count": 20,
      "outputs": [
        {
          "output_type": "stream",
          "name": "stdout",
          "text": [
            "Cluster 0: Ahorradores Conscientes\n",
            "Cluster 1: Jóvenes Gastadores\n",
            "Cluster 2: Familias Establecidas\n",
            "Cluster 3: Adultos Moderados\n",
            "Cluster 4: Buscadores de Ofertas\n"
          ]
        }
      ]
    }
  ]
}